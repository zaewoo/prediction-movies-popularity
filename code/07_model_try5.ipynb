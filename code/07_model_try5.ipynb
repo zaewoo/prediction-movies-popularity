{
 "cells": [
  {
   "cell_type": "markdown",
   "metadata": {},
   "source": [
    "# 다섯번째 시도"
   ]
  },
  {
   "cell_type": "markdown",
   "metadata": {},
   "source": [
    "Key Attempts:\n",
    "- 감독, 배급사, 배우, 장르는 각 레이블의 관객수 중압값으로 치환\n",
    "- 개봉월, 국가는 0,1 레이블 인코딩\n",
    "- 감독, 배급사, 배우, 장르, 상영시간 normalise"
   ]
  },
  {
   "cell_type": "code",
   "execution_count": 1,
   "metadata": {},
   "outputs": [],
   "source": [
    "import pandas as pd\n",
    "import matplotlib.pyplot as plt"
   ]
  },
  {
   "cell_type": "code",
   "execution_count": 2,
   "metadata": {},
   "outputs": [],
   "source": [
    "df = pd.read_csv('./data/join_final.csv', encoding='utf-8-sig', thousands=',')"
   ]
  },
  {
   "cell_type": "code",
   "execution_count": 3,
   "metadata": {},
   "outputs": [
    {
     "name": "stdout",
     "output_type": "stream",
     "text": [
      "<class 'pandas.core.frame.DataFrame'>\n",
      "RangeIndex: 6806 entries, 0 to 6805\n",
      "Data columns (total 9 columns):\n",
      " #   Column       Non-Null Count  Dtype  \n",
      "---  ------       --------------  -----  \n",
      " 0   runTm        6806 non-null   float64\n",
      " 1   nation       6806 non-null   int64  \n",
      " 2   genre        6806 non-null   int64  \n",
      " 3   director     6806 non-null   object \n",
      " 4   actor        6806 non-null   object \n",
      " 5   is_adult     6806 non-null   float64\n",
      " 6   distributor  6806 non-null   object \n",
      " 7   view         6806 non-null   int64  \n",
      " 8   openMonth    6806 non-null   int64  \n",
      "dtypes: float64(2), int64(4), object(3)\n",
      "memory usage: 478.7+ KB\n"
     ]
    }
   ],
   "source": [
    "df.info()"
   ]
  },
  {
   "cell_type": "markdown",
   "metadata": {},
   "source": [
    "## 1. 메디안 값 치환"
   ]
  },
  {
   "cell_type": "code",
   "execution_count": 5,
   "metadata": {},
   "outputs": [],
   "source": [
    "# 감독, 배우, 배급사 각각의 중앙 값 테이블 만들기\n",
    "director = df.groupby('director').agg({\"view\":\"median\"}).reset_index()\n",
    "actor = df.groupby('actor').agg({\"view\":\"median\"}).reset_index()\n",
    "distributor = df.groupby('distributor').agg({\"view\":\"median\"}).reset_index()\n",
    "genre = df.groupby('genre').agg({\"view\":\"median\"}).reset_index()"
   ]
  },
  {
   "cell_type": "code",
   "execution_count": 6,
   "metadata": {},
   "outputs": [],
   "source": [
    "for idx, row in df.iterrows():\n",
    "    act = row['actor']\n",
    "    dist = row['distributor']\n",
    "    dir = row['director']\n",
    "    g = row['genre']\n",
    "\n",
    "    a_val = actor[actor['actor'] == act]['view'].values[0]\n",
    "    df.loc[idx, 'actor'] = a_val\n",
    "\n",
    "    dist_val = distributor[distributor['distributor'] == dist]['view'].values[0]\n",
    "    df.loc[idx, 'distributor'] = dist_val\n",
    "\n",
    "    dir_val = director[director['director'] == dir]['view'].values[0]\n",
    "    df.loc[idx, 'director'] = dir_val\n",
    "\n",
    "    g_val = genre[genre['genre'] == g]['view'].values[0]\n",
    "    df.loc[idx, 'genre'] = g_val"
   ]
  },
  {
   "cell_type": "code",
   "execution_count": 7,
   "metadata": {},
   "outputs": [
    {
     "data": {
      "text/html": [
       "<div>\n",
       "<style scoped>\n",
       "    .dataframe tbody tr th:only-of-type {\n",
       "        vertical-align: middle;\n",
       "    }\n",
       "\n",
       "    .dataframe tbody tr th {\n",
       "        vertical-align: top;\n",
       "    }\n",
       "\n",
       "    .dataframe thead th {\n",
       "        text-align: right;\n",
       "    }\n",
       "</style>\n",
       "<table border=\"1\" class=\"dataframe\">\n",
       "  <thead>\n",
       "    <tr style=\"text-align: right;\">\n",
       "      <th></th>\n",
       "      <th>runTm</th>\n",
       "      <th>nation</th>\n",
       "      <th>genre</th>\n",
       "      <th>director</th>\n",
       "      <th>actor</th>\n",
       "      <th>is_adult</th>\n",
       "      <th>distributor</th>\n",
       "      <th>view</th>\n",
       "      <th>openMonth</th>\n",
       "    </tr>\n",
       "  </thead>\n",
       "  <tbody>\n",
       "    <tr>\n",
       "      <th>0</th>\n",
       "      <td>136.0</td>\n",
       "      <td>2</td>\n",
       "      <td>12399.0</td>\n",
       "      <td>954845.5</td>\n",
       "      <td>167141.0</td>\n",
       "      <td>0.0</td>\n",
       "      <td>528537.0</td>\n",
       "      <td>1865469</td>\n",
       "      <td>7</td>\n",
       "    </tr>\n",
       "    <tr>\n",
       "      <th>1</th>\n",
       "      <td>119.0</td>\n",
       "      <td>3</td>\n",
       "      <td>137943.0</td>\n",
       "      <td>2674.0</td>\n",
       "      <td>17258.0</td>\n",
       "      <td>0.0</td>\n",
       "      <td>8048.0</td>\n",
       "      <td>24634</td>\n",
       "      <td>1</td>\n",
       "    </tr>\n",
       "    <tr>\n",
       "      <th>2</th>\n",
       "      <td>116.0</td>\n",
       "      <td>1</td>\n",
       "      <td>42881.5</td>\n",
       "      <td>6065474.0</td>\n",
       "      <td>3024666.0</td>\n",
       "      <td>1.0</td>\n",
       "      <td>708108.5</td>\n",
       "      <td>943241</td>\n",
       "      <td>4</td>\n",
       "    </tr>\n",
       "    <tr>\n",
       "      <th>3</th>\n",
       "      <td>125.0</td>\n",
       "      <td>2</td>\n",
       "      <td>33684.0</td>\n",
       "      <td>507938.5</td>\n",
       "      <td>58644.0</td>\n",
       "      <td>0.0</td>\n",
       "      <td>12057.0</td>\n",
       "      <td>85594</td>\n",
       "      <td>3</td>\n",
       "    </tr>\n",
       "    <tr>\n",
       "      <th>4</th>\n",
       "      <td>105.0</td>\n",
       "      <td>1</td>\n",
       "      <td>30069.0</td>\n",
       "      <td>193554.0</td>\n",
       "      <td>193554.0</td>\n",
       "      <td>0.0</td>\n",
       "      <td>62026.0</td>\n",
       "      <td>193554</td>\n",
       "      <td>6</td>\n",
       "    </tr>\n",
       "  </tbody>\n",
       "</table>\n",
       "</div>"
      ],
      "text/plain": [
       "   runTm  nation     genre   director      actor  is_adult distributor  \\\n",
       "0  136.0       2   12399.0   954845.5   167141.0       0.0    528537.0   \n",
       "1  119.0       3  137943.0     2674.0    17258.0       0.0      8048.0   \n",
       "2  116.0       1   42881.5  6065474.0  3024666.0       1.0    708108.5   \n",
       "3  125.0       2   33684.0   507938.5    58644.0       0.0     12057.0   \n",
       "4  105.0       1   30069.0   193554.0   193554.0       0.0     62026.0   \n",
       "\n",
       "      view  openMonth  \n",
       "0  1865469          7  \n",
       "1    24634          1  \n",
       "2   943241          4  \n",
       "3    85594          3  \n",
       "4   193554          6  "
      ]
     },
     "execution_count": 7,
     "metadata": {},
     "output_type": "execute_result"
    }
   ],
   "source": [
    "df.head()"
   ]
  },
  {
   "cell_type": "markdown",
   "metadata": {},
   "source": [
    "## 2. 관객 수 범주형 변환"
   ]
  },
  {
   "cell_type": "code",
   "execution_count": 8,
   "metadata": {},
   "outputs": [],
   "source": [
    "for idx, row in df.iterrows():\n",
    "    val = row['view']\n",
    "    if val <10000:\n",
    "        df.loc[idx, 'view'] = 1\n",
    "    elif val <100000:\n",
    "        df.loc[idx, 'view'] = 2\n",
    "    elif val <200000:\n",
    "        df.loc[idx, 'view'] = 3\n",
    "    elif val <400000:\n",
    "        df.loc[idx, 'view'] = 4\n",
    "    elif val <600000:\n",
    "        df.loc[idx, 'view'] = 5\n",
    "    elif val <800000:\n",
    "        df.loc[idx, 'view'] = 6\n",
    "    elif val <1000000:\n",
    "        df.loc[idx, 'view'] = 7\n",
    "    else:\n",
    "        df.loc[idx, 'view'] = 8"
   ]
  },
  {
   "cell_type": "markdown",
   "metadata": {},
   "source": [
    "## 3. 라벨인코딩"
   ]
  },
  {
   "cell_type": "code",
   "execution_count": 9,
   "metadata": {},
   "outputs": [],
   "source": [
    "y = df['view']\n",
    "X = df.drop('view', axis=1)"
   ]
  },
  {
   "cell_type": "code",
   "execution_count": 10,
   "metadata": {},
   "outputs": [
    {
     "name": "stdout",
     "output_type": "stream",
     "text": [
      "<class 'pandas.core.frame.DataFrame'>\n",
      "RangeIndex: 6806 entries, 0 to 6805\n",
      "Data columns (total 8 columns):\n",
      " #   Column       Non-Null Count  Dtype  \n",
      "---  ------       --------------  -----  \n",
      " 0   runTm        6806 non-null   float64\n",
      " 1   nation       6806 non-null   int64  \n",
      " 2   genre        6806 non-null   float64\n",
      " 3   director     6806 non-null   object \n",
      " 4   actor        6806 non-null   object \n",
      " 5   is_adult     6806 non-null   float64\n",
      " 6   distributor  6806 non-null   object \n",
      " 7   openMonth    6806 non-null   int64  \n",
      "dtypes: float64(3), int64(2), object(3)\n",
      "memory usage: 425.5+ KB\n"
     ]
    }
   ],
   "source": [
    "X.info()"
   ]
  },
  {
   "cell_type": "code",
   "execution_count": 11,
   "metadata": {},
   "outputs": [],
   "source": [
    "X = pd.get_dummies(data = X, columns=['nation'], prefix='region')"
   ]
  },
  {
   "cell_type": "code",
   "execution_count": 12,
   "metadata": {},
   "outputs": [],
   "source": [
    "X = pd.get_dummies(data = X, columns=['openMonth'], prefix='month')"
   ]
  },
  {
   "cell_type": "code",
   "execution_count": 13,
   "metadata": {},
   "outputs": [
    {
     "data": {
      "text/plain": [
       "Index(['runTm', 'genre', 'director', 'actor', 'is_adult', 'distributor',\n",
       "       'region_1', 'region_2', 'region_3', 'month_1', 'month_2', 'month_3',\n",
       "       'month_4', 'month_5', 'month_6', 'month_7', 'month_8', 'month_9',\n",
       "       'month_10', 'month_11', 'month_12'],\n",
       "      dtype='object')"
      ]
     },
     "execution_count": 13,
     "metadata": {},
     "output_type": "execute_result"
    }
   ],
   "source": [
    "X.columns"
   ]
  },
  {
   "cell_type": "markdown",
   "metadata": {},
   "source": [
    "## 4. 데이터 스플릿"
   ]
  },
  {
   "cell_type": "code",
   "execution_count": 14,
   "metadata": {},
   "outputs": [],
   "source": [
    "from sklearn.model_selection import train_test_split\n",
    "\n",
    "X_train, X_test, y_train, y_test = train_test_split(X, y, test_size=0.3, random_state=13, stratify=y)"
   ]
  },
  {
   "cell_type": "markdown",
   "metadata": {},
   "source": [
    "## 5. Normalise"
   ]
  },
  {
   "cell_type": "code",
   "execution_count": 15,
   "metadata": {},
   "outputs": [
    {
     "data": {
      "text/html": [
       "<div>\n",
       "<style scoped>\n",
       "    .dataframe tbody tr th:only-of-type {\n",
       "        vertical-align: middle;\n",
       "    }\n",
       "\n",
       "    .dataframe tbody tr th {\n",
       "        vertical-align: top;\n",
       "    }\n",
       "\n",
       "    .dataframe thead th {\n",
       "        text-align: right;\n",
       "    }\n",
       "</style>\n",
       "<table border=\"1\" class=\"dataframe\">\n",
       "  <thead>\n",
       "    <tr style=\"text-align: right;\">\n",
       "      <th></th>\n",
       "      <th>runTm</th>\n",
       "      <th>genre</th>\n",
       "      <th>director</th>\n",
       "      <th>actor</th>\n",
       "      <th>is_adult</th>\n",
       "      <th>distributor</th>\n",
       "      <th>region_1</th>\n",
       "      <th>region_2</th>\n",
       "      <th>region_3</th>\n",
       "      <th>month_1</th>\n",
       "      <th>...</th>\n",
       "      <th>month_3</th>\n",
       "      <th>month_4</th>\n",
       "      <th>month_5</th>\n",
       "      <th>month_6</th>\n",
       "      <th>month_7</th>\n",
       "      <th>month_8</th>\n",
       "      <th>month_9</th>\n",
       "      <th>month_10</th>\n",
       "      <th>month_11</th>\n",
       "      <th>month_12</th>\n",
       "    </tr>\n",
       "  </thead>\n",
       "  <tbody>\n",
       "    <tr>\n",
       "      <th>619</th>\n",
       "      <td>111.0</td>\n",
       "      <td>17444.0</td>\n",
       "      <td>219824.0</td>\n",
       "      <td>219824.0</td>\n",
       "      <td>0.0</td>\n",
       "      <td>374215.0</td>\n",
       "      <td>1</td>\n",
       "      <td>0</td>\n",
       "      <td>0</td>\n",
       "      <td>0</td>\n",
       "      <td>...</td>\n",
       "      <td>0</td>\n",
       "      <td>0</td>\n",
       "      <td>0</td>\n",
       "      <td>0</td>\n",
       "      <td>0</td>\n",
       "      <td>1</td>\n",
       "      <td>0</td>\n",
       "      <td>0</td>\n",
       "      <td>0</td>\n",
       "      <td>0</td>\n",
       "    </tr>\n",
       "    <tr>\n",
       "      <th>1314</th>\n",
       "      <td>78.0</td>\n",
       "      <td>39737.0</td>\n",
       "      <td>214097.0</td>\n",
       "      <td>32517.5</td>\n",
       "      <td>0.0</td>\n",
       "      <td>16143.0</td>\n",
       "      <td>0</td>\n",
       "      <td>0</td>\n",
       "      <td>1</td>\n",
       "      <td>0</td>\n",
       "      <td>...</td>\n",
       "      <td>0</td>\n",
       "      <td>0</td>\n",
       "      <td>0</td>\n",
       "      <td>1</td>\n",
       "      <td>0</td>\n",
       "      <td>0</td>\n",
       "      <td>0</td>\n",
       "      <td>0</td>\n",
       "      <td>0</td>\n",
       "      <td>0</td>\n",
       "    </tr>\n",
       "    <tr>\n",
       "      <th>861</th>\n",
       "      <td>98.0</td>\n",
       "      <td>76985.0</td>\n",
       "      <td>161342.5</td>\n",
       "      <td>146660.5</td>\n",
       "      <td>1.0</td>\n",
       "      <td>352226.5</td>\n",
       "      <td>0</td>\n",
       "      <td>0</td>\n",
       "      <td>1</td>\n",
       "      <td>0</td>\n",
       "      <td>...</td>\n",
       "      <td>0</td>\n",
       "      <td>0</td>\n",
       "      <td>0</td>\n",
       "      <td>0</td>\n",
       "      <td>1</td>\n",
       "      <td>0</td>\n",
       "      <td>0</td>\n",
       "      <td>0</td>\n",
       "      <td>0</td>\n",
       "      <td>0</td>\n",
       "    </tr>\n",
       "    <tr>\n",
       "      <th>5384</th>\n",
       "      <td>123.0</td>\n",
       "      <td>12399.0</td>\n",
       "      <td>11067.0</td>\n",
       "      <td>11067.0</td>\n",
       "      <td>0.0</td>\n",
       "      <td>50196.0</td>\n",
       "      <td>1</td>\n",
       "      <td>0</td>\n",
       "      <td>0</td>\n",
       "      <td>0</td>\n",
       "      <td>...</td>\n",
       "      <td>0</td>\n",
       "      <td>0</td>\n",
       "      <td>0</td>\n",
       "      <td>0</td>\n",
       "      <td>0</td>\n",
       "      <td>1</td>\n",
       "      <td>0</td>\n",
       "      <td>0</td>\n",
       "      <td>0</td>\n",
       "      <td>0</td>\n",
       "    </tr>\n",
       "    <tr>\n",
       "      <th>4283</th>\n",
       "      <td>119.0</td>\n",
       "      <td>39737.0</td>\n",
       "      <td>44770.5</td>\n",
       "      <td>49832.0</td>\n",
       "      <td>0.0</td>\n",
       "      <td>7213.0</td>\n",
       "      <td>0</td>\n",
       "      <td>0</td>\n",
       "      <td>1</td>\n",
       "      <td>0</td>\n",
       "      <td>...</td>\n",
       "      <td>1</td>\n",
       "      <td>0</td>\n",
       "      <td>0</td>\n",
       "      <td>0</td>\n",
       "      <td>0</td>\n",
       "      <td>0</td>\n",
       "      <td>0</td>\n",
       "      <td>0</td>\n",
       "      <td>0</td>\n",
       "      <td>0</td>\n",
       "    </tr>\n",
       "    <tr>\n",
       "      <th>...</th>\n",
       "      <td>...</td>\n",
       "      <td>...</td>\n",
       "      <td>...</td>\n",
       "      <td>...</td>\n",
       "      <td>...</td>\n",
       "      <td>...</td>\n",
       "      <td>...</td>\n",
       "      <td>...</td>\n",
       "      <td>...</td>\n",
       "      <td>...</td>\n",
       "      <td>...</td>\n",
       "      <td>...</td>\n",
       "      <td>...</td>\n",
       "      <td>...</td>\n",
       "      <td>...</td>\n",
       "      <td>...</td>\n",
       "      <td>...</td>\n",
       "      <td>...</td>\n",
       "      <td>...</td>\n",
       "      <td>...</td>\n",
       "      <td>...</td>\n",
       "    </tr>\n",
       "    <tr>\n",
       "      <th>4209</th>\n",
       "      <td>104.0</td>\n",
       "      <td>30069.0</td>\n",
       "      <td>47923.0</td>\n",
       "      <td>603634.0</td>\n",
       "      <td>0.0</td>\n",
       "      <td>528537.0</td>\n",
       "      <td>0</td>\n",
       "      <td>1</td>\n",
       "      <td>0</td>\n",
       "      <td>0</td>\n",
       "      <td>...</td>\n",
       "      <td>0</td>\n",
       "      <td>0</td>\n",
       "      <td>0</td>\n",
       "      <td>0</td>\n",
       "      <td>0</td>\n",
       "      <td>0</td>\n",
       "      <td>0</td>\n",
       "      <td>0</td>\n",
       "      <td>0</td>\n",
       "      <td>0</td>\n",
       "    </tr>\n",
       "    <tr>\n",
       "      <th>726</th>\n",
       "      <td>110.0</td>\n",
       "      <td>30069.0</td>\n",
       "      <td>1049616.5</td>\n",
       "      <td>446780.0</td>\n",
       "      <td>0.0</td>\n",
       "      <td>352226.5</td>\n",
       "      <td>1</td>\n",
       "      <td>0</td>\n",
       "      <td>0</td>\n",
       "      <td>0</td>\n",
       "      <td>...</td>\n",
       "      <td>0</td>\n",
       "      <td>0</td>\n",
       "      <td>0</td>\n",
       "      <td>0</td>\n",
       "      <td>0</td>\n",
       "      <td>0</td>\n",
       "      <td>0</td>\n",
       "      <td>0</td>\n",
       "      <td>1</td>\n",
       "      <td>0</td>\n",
       "    </tr>\n",
       "    <tr>\n",
       "      <th>1414</th>\n",
       "      <td>166.0</td>\n",
       "      <td>12399.0</td>\n",
       "      <td>477329.5</td>\n",
       "      <td>275944.5</td>\n",
       "      <td>0.0</td>\n",
       "      <td>367308.0</td>\n",
       "      <td>0</td>\n",
       "      <td>1</td>\n",
       "      <td>0</td>\n",
       "      <td>0</td>\n",
       "      <td>...</td>\n",
       "      <td>0</td>\n",
       "      <td>0</td>\n",
       "      <td>0</td>\n",
       "      <td>0</td>\n",
       "      <td>0</td>\n",
       "      <td>0</td>\n",
       "      <td>0</td>\n",
       "      <td>0</td>\n",
       "      <td>0</td>\n",
       "      <td>0</td>\n",
       "    </tr>\n",
       "    <tr>\n",
       "      <th>1523</th>\n",
       "      <td>100.0</td>\n",
       "      <td>30069.0</td>\n",
       "      <td>60219.0</td>\n",
       "      <td>117006.0</td>\n",
       "      <td>0.0</td>\n",
       "      <td>361682.5</td>\n",
       "      <td>1</td>\n",
       "      <td>0</td>\n",
       "      <td>0</td>\n",
       "      <td>0</td>\n",
       "      <td>...</td>\n",
       "      <td>0</td>\n",
       "      <td>0</td>\n",
       "      <td>0</td>\n",
       "      <td>0</td>\n",
       "      <td>0</td>\n",
       "      <td>0</td>\n",
       "      <td>0</td>\n",
       "      <td>0</td>\n",
       "      <td>0</td>\n",
       "      <td>0</td>\n",
       "    </tr>\n",
       "    <tr>\n",
       "      <th>2257</th>\n",
       "      <td>100.0</td>\n",
       "      <td>12399.0</td>\n",
       "      <td>3325.0</td>\n",
       "      <td>3325.0</td>\n",
       "      <td>0.0</td>\n",
       "      <td>3352.0</td>\n",
       "      <td>0</td>\n",
       "      <td>1</td>\n",
       "      <td>0</td>\n",
       "      <td>0</td>\n",
       "      <td>...</td>\n",
       "      <td>0</td>\n",
       "      <td>0</td>\n",
       "      <td>1</td>\n",
       "      <td>0</td>\n",
       "      <td>0</td>\n",
       "      <td>0</td>\n",
       "      <td>0</td>\n",
       "      <td>0</td>\n",
       "      <td>0</td>\n",
       "      <td>0</td>\n",
       "    </tr>\n",
       "  </tbody>\n",
       "</table>\n",
       "<p>4764 rows × 21 columns</p>\n",
       "</div>"
      ],
      "text/plain": [
       "      runTm    genre   director     actor  is_adult distributor  region_1  \\\n",
       "619   111.0  17444.0   219824.0  219824.0       0.0    374215.0         1   \n",
       "1314   78.0  39737.0   214097.0   32517.5       0.0     16143.0         0   \n",
       "861    98.0  76985.0   161342.5  146660.5       1.0    352226.5         0   \n",
       "5384  123.0  12399.0    11067.0   11067.0       0.0     50196.0         1   \n",
       "4283  119.0  39737.0    44770.5   49832.0       0.0      7213.0         0   \n",
       "...     ...      ...        ...       ...       ...         ...       ...   \n",
       "4209  104.0  30069.0    47923.0  603634.0       0.0    528537.0         0   \n",
       "726   110.0  30069.0  1049616.5  446780.0       0.0    352226.5         1   \n",
       "1414  166.0  12399.0   477329.5  275944.5       0.0    367308.0         0   \n",
       "1523  100.0  30069.0    60219.0  117006.0       0.0    361682.5         1   \n",
       "2257  100.0  12399.0     3325.0    3325.0       0.0      3352.0         0   \n",
       "\n",
       "      region_2  region_3  month_1  ...  month_3  month_4  month_5  month_6  \\\n",
       "619          0         0        0  ...        0        0        0        0   \n",
       "1314         0         1        0  ...        0        0        0        1   \n",
       "861          0         1        0  ...        0        0        0        0   \n",
       "5384         0         0        0  ...        0        0        0        0   \n",
       "4283         0         1        0  ...        1        0        0        0   \n",
       "...        ...       ...      ...  ...      ...      ...      ...      ...   \n",
       "4209         1         0        0  ...        0        0        0        0   \n",
       "726          0         0        0  ...        0        0        0        0   \n",
       "1414         1         0        0  ...        0        0        0        0   \n",
       "1523         0         0        0  ...        0        0        0        0   \n",
       "2257         1         0        0  ...        0        0        1        0   \n",
       "\n",
       "      month_7  month_8  month_9  month_10  month_11  month_12  \n",
       "619         0        1        0         0         0         0  \n",
       "1314        0        0        0         0         0         0  \n",
       "861         1        0        0         0         0         0  \n",
       "5384        0        1        0         0         0         0  \n",
       "4283        0        0        0         0         0         0  \n",
       "...       ...      ...      ...       ...       ...       ...  \n",
       "4209        0        0        0         0         0         0  \n",
       "726         0        0        0         0         1         0  \n",
       "1414        0        0        0         0         0         0  \n",
       "1523        0        0        0         0         0         0  \n",
       "2257        0        0        0         0         0         0  \n",
       "\n",
       "[4764 rows x 21 columns]"
      ]
     },
     "execution_count": 15,
     "metadata": {},
     "output_type": "execute_result"
    }
   ],
   "source": [
    "X_train"
   ]
  },
  {
   "cell_type": "code",
   "execution_count": 16,
   "metadata": {},
   "outputs": [],
   "source": [
    "# train data의 runTm 컬럼만 normalisation fit 적용\n",
    "from sklearn.preprocessing import MinMaxScaler\n",
    "\n",
    "mm = MinMaxScaler()\n",
    "X_train.iloc[:,0:6] = mm.fit_transform(X_train.iloc[:, 0:6])"
   ]
  },
  {
   "cell_type": "code",
   "execution_count": 17,
   "metadata": {},
   "outputs": [
    {
     "data": {
      "text/html": [
       "<div>\n",
       "<style scoped>\n",
       "    .dataframe tbody tr th:only-of-type {\n",
       "        vertical-align: middle;\n",
       "    }\n",
       "\n",
       "    .dataframe tbody tr th {\n",
       "        vertical-align: top;\n",
       "    }\n",
       "\n",
       "    .dataframe thead th {\n",
       "        text-align: right;\n",
       "    }\n",
       "</style>\n",
       "<table border=\"1\" class=\"dataframe\">\n",
       "  <thead>\n",
       "    <tr style=\"text-align: right;\">\n",
       "      <th></th>\n",
       "      <th>runTm</th>\n",
       "      <th>genre</th>\n",
       "      <th>director</th>\n",
       "      <th>actor</th>\n",
       "      <th>is_adult</th>\n",
       "      <th>distributor</th>\n",
       "      <th>region_1</th>\n",
       "      <th>region_2</th>\n",
       "      <th>region_3</th>\n",
       "      <th>month_1</th>\n",
       "      <th>...</th>\n",
       "      <th>month_3</th>\n",
       "      <th>month_4</th>\n",
       "      <th>month_5</th>\n",
       "      <th>month_6</th>\n",
       "      <th>month_7</th>\n",
       "      <th>month_8</th>\n",
       "      <th>month_9</th>\n",
       "      <th>month_10</th>\n",
       "      <th>month_11</th>\n",
       "      <th>month_12</th>\n",
       "    </tr>\n",
       "  </thead>\n",
       "  <tbody>\n",
       "    <tr>\n",
       "      <th>619</th>\n",
       "      <td>0.309091</td>\n",
       "      <td>0.010441</td>\n",
       "      <td>0.019324</td>\n",
       "      <td>0.021998</td>\n",
       "      <td>0.0</td>\n",
       "      <td>0.145299</td>\n",
       "      <td>1</td>\n",
       "      <td>0</td>\n",
       "      <td>0</td>\n",
       "      <td>0</td>\n",
       "      <td>...</td>\n",
       "      <td>0</td>\n",
       "      <td>0</td>\n",
       "      <td>0</td>\n",
       "      <td>0</td>\n",
       "      <td>0</td>\n",
       "      <td>1</td>\n",
       "      <td>0</td>\n",
       "      <td>0</td>\n",
       "      <td>0</td>\n",
       "      <td>0</td>\n",
       "    </tr>\n",
       "    <tr>\n",
       "      <th>1314</th>\n",
       "      <td>0.159091</td>\n",
       "      <td>0.032915</td>\n",
       "      <td>0.018818</td>\n",
       "      <td>0.003168</td>\n",
       "      <td>0.0</td>\n",
       "      <td>0.005895</td>\n",
       "      <td>0</td>\n",
       "      <td>0</td>\n",
       "      <td>1</td>\n",
       "      <td>0</td>\n",
       "      <td>...</td>\n",
       "      <td>0</td>\n",
       "      <td>0</td>\n",
       "      <td>0</td>\n",
       "      <td>1</td>\n",
       "      <td>0</td>\n",
       "      <td>0</td>\n",
       "      <td>0</td>\n",
       "      <td>0</td>\n",
       "      <td>0</td>\n",
       "      <td>0</td>\n",
       "    </tr>\n",
       "    <tr>\n",
       "      <th>861</th>\n",
       "      <td>0.250000</td>\n",
       "      <td>0.070466</td>\n",
       "      <td>0.014160</td>\n",
       "      <td>0.014643</td>\n",
       "      <td>1.0</td>\n",
       "      <td>0.136739</td>\n",
       "      <td>0</td>\n",
       "      <td>0</td>\n",
       "      <td>1</td>\n",
       "      <td>0</td>\n",
       "      <td>...</td>\n",
       "      <td>0</td>\n",
       "      <td>0</td>\n",
       "      <td>0</td>\n",
       "      <td>0</td>\n",
       "      <td>1</td>\n",
       "      <td>0</td>\n",
       "      <td>0</td>\n",
       "      <td>0</td>\n",
       "      <td>0</td>\n",
       "      <td>0</td>\n",
       "    </tr>\n",
       "    <tr>\n",
       "      <th>5384</th>\n",
       "      <td>0.363636</td>\n",
       "      <td>0.005355</td>\n",
       "      <td>0.000889</td>\n",
       "      <td>0.001012</td>\n",
       "      <td>0.0</td>\n",
       "      <td>0.019153</td>\n",
       "      <td>1</td>\n",
       "      <td>0</td>\n",
       "      <td>0</td>\n",
       "      <td>0</td>\n",
       "      <td>...</td>\n",
       "      <td>0</td>\n",
       "      <td>0</td>\n",
       "      <td>0</td>\n",
       "      <td>0</td>\n",
       "      <td>0</td>\n",
       "      <td>1</td>\n",
       "      <td>0</td>\n",
       "      <td>0</td>\n",
       "      <td>0</td>\n",
       "      <td>0</td>\n",
       "    </tr>\n",
       "    <tr>\n",
       "      <th>4283</th>\n",
       "      <td>0.345455</td>\n",
       "      <td>0.032915</td>\n",
       "      <td>0.003865</td>\n",
       "      <td>0.004909</td>\n",
       "      <td>0.0</td>\n",
       "      <td>0.002419</td>\n",
       "      <td>0</td>\n",
       "      <td>0</td>\n",
       "      <td>1</td>\n",
       "      <td>0</td>\n",
       "      <td>...</td>\n",
       "      <td>1</td>\n",
       "      <td>0</td>\n",
       "      <td>0</td>\n",
       "      <td>0</td>\n",
       "      <td>0</td>\n",
       "      <td>0</td>\n",
       "      <td>0</td>\n",
       "      <td>0</td>\n",
       "      <td>0</td>\n",
       "      <td>0</td>\n",
       "    </tr>\n",
       "    <tr>\n",
       "      <th>...</th>\n",
       "      <td>...</td>\n",
       "      <td>...</td>\n",
       "      <td>...</td>\n",
       "      <td>...</td>\n",
       "      <td>...</td>\n",
       "      <td>...</td>\n",
       "      <td>...</td>\n",
       "      <td>...</td>\n",
       "      <td>...</td>\n",
       "      <td>...</td>\n",
       "      <td>...</td>\n",
       "      <td>...</td>\n",
       "      <td>...</td>\n",
       "      <td>...</td>\n",
       "      <td>...</td>\n",
       "      <td>...</td>\n",
       "      <td>...</td>\n",
       "      <td>...</td>\n",
       "      <td>...</td>\n",
       "      <td>...</td>\n",
       "      <td>...</td>\n",
       "    </tr>\n",
       "    <tr>\n",
       "      <th>4209</th>\n",
       "      <td>0.277273</td>\n",
       "      <td>0.023169</td>\n",
       "      <td>0.004144</td>\n",
       "      <td>0.060582</td>\n",
       "      <td>0.0</td>\n",
       "      <td>0.205379</td>\n",
       "      <td>0</td>\n",
       "      <td>1</td>\n",
       "      <td>0</td>\n",
       "      <td>0</td>\n",
       "      <td>...</td>\n",
       "      <td>0</td>\n",
       "      <td>0</td>\n",
       "      <td>0</td>\n",
       "      <td>0</td>\n",
       "      <td>0</td>\n",
       "      <td>0</td>\n",
       "      <td>0</td>\n",
       "      <td>0</td>\n",
       "      <td>0</td>\n",
       "      <td>0</td>\n",
       "    </tr>\n",
       "    <tr>\n",
       "      <th>726</th>\n",
       "      <td>0.304545</td>\n",
       "      <td>0.023169</td>\n",
       "      <td>0.092602</td>\n",
       "      <td>0.044814</td>\n",
       "      <td>0.0</td>\n",
       "      <td>0.136739</td>\n",
       "      <td>1</td>\n",
       "      <td>0</td>\n",
       "      <td>0</td>\n",
       "      <td>0</td>\n",
       "      <td>...</td>\n",
       "      <td>0</td>\n",
       "      <td>0</td>\n",
       "      <td>0</td>\n",
       "      <td>0</td>\n",
       "      <td>0</td>\n",
       "      <td>0</td>\n",
       "      <td>0</td>\n",
       "      <td>0</td>\n",
       "      <td>1</td>\n",
       "      <td>0</td>\n",
       "    </tr>\n",
       "    <tr>\n",
       "      <th>1414</th>\n",
       "      <td>0.559091</td>\n",
       "      <td>0.005355</td>\n",
       "      <td>0.042064</td>\n",
       "      <td>0.027640</td>\n",
       "      <td>0.0</td>\n",
       "      <td>0.142610</td>\n",
       "      <td>0</td>\n",
       "      <td>1</td>\n",
       "      <td>0</td>\n",
       "      <td>0</td>\n",
       "      <td>...</td>\n",
       "      <td>0</td>\n",
       "      <td>0</td>\n",
       "      <td>0</td>\n",
       "      <td>0</td>\n",
       "      <td>0</td>\n",
       "      <td>0</td>\n",
       "      <td>0</td>\n",
       "      <td>0</td>\n",
       "      <td>0</td>\n",
       "      <td>0</td>\n",
       "    </tr>\n",
       "    <tr>\n",
       "      <th>1523</th>\n",
       "      <td>0.259091</td>\n",
       "      <td>0.023169</td>\n",
       "      <td>0.005230</td>\n",
       "      <td>0.011662</td>\n",
       "      <td>0.0</td>\n",
       "      <td>0.140420</td>\n",
       "      <td>1</td>\n",
       "      <td>0</td>\n",
       "      <td>0</td>\n",
       "      <td>0</td>\n",
       "      <td>...</td>\n",
       "      <td>0</td>\n",
       "      <td>0</td>\n",
       "      <td>0</td>\n",
       "      <td>0</td>\n",
       "      <td>0</td>\n",
       "      <td>0</td>\n",
       "      <td>0</td>\n",
       "      <td>0</td>\n",
       "      <td>0</td>\n",
       "      <td>0</td>\n",
       "    </tr>\n",
       "    <tr>\n",
       "      <th>2257</th>\n",
       "      <td>0.259091</td>\n",
       "      <td>0.005355</td>\n",
       "      <td>0.000205</td>\n",
       "      <td>0.000234</td>\n",
       "      <td>0.0</td>\n",
       "      <td>0.000916</td>\n",
       "      <td>0</td>\n",
       "      <td>1</td>\n",
       "      <td>0</td>\n",
       "      <td>0</td>\n",
       "      <td>...</td>\n",
       "      <td>0</td>\n",
       "      <td>0</td>\n",
       "      <td>1</td>\n",
       "      <td>0</td>\n",
       "      <td>0</td>\n",
       "      <td>0</td>\n",
       "      <td>0</td>\n",
       "      <td>0</td>\n",
       "      <td>0</td>\n",
       "      <td>0</td>\n",
       "    </tr>\n",
       "  </tbody>\n",
       "</table>\n",
       "<p>4764 rows × 21 columns</p>\n",
       "</div>"
      ],
      "text/plain": [
       "         runTm     genre  director     actor  is_adult  distributor  region_1  \\\n",
       "619   0.309091  0.010441  0.019324  0.021998       0.0     0.145299         1   \n",
       "1314  0.159091  0.032915  0.018818  0.003168       0.0     0.005895         0   \n",
       "861   0.250000  0.070466  0.014160  0.014643       1.0     0.136739         0   \n",
       "5384  0.363636  0.005355  0.000889  0.001012       0.0     0.019153         1   \n",
       "4283  0.345455  0.032915  0.003865  0.004909       0.0     0.002419         0   \n",
       "...        ...       ...       ...       ...       ...          ...       ...   \n",
       "4209  0.277273  0.023169  0.004144  0.060582       0.0     0.205379         0   \n",
       "726   0.304545  0.023169  0.092602  0.044814       0.0     0.136739         1   \n",
       "1414  0.559091  0.005355  0.042064  0.027640       0.0     0.142610         0   \n",
       "1523  0.259091  0.023169  0.005230  0.011662       0.0     0.140420         1   \n",
       "2257  0.259091  0.005355  0.000205  0.000234       0.0     0.000916         0   \n",
       "\n",
       "      region_2  region_3  month_1  ...  month_3  month_4  month_5  month_6  \\\n",
       "619          0         0        0  ...        0        0        0        0   \n",
       "1314         0         1        0  ...        0        0        0        1   \n",
       "861          0         1        0  ...        0        0        0        0   \n",
       "5384         0         0        0  ...        0        0        0        0   \n",
       "4283         0         1        0  ...        1        0        0        0   \n",
       "...        ...       ...      ...  ...      ...      ...      ...      ...   \n",
       "4209         1         0        0  ...        0        0        0        0   \n",
       "726          0         0        0  ...        0        0        0        0   \n",
       "1414         1         0        0  ...        0        0        0        0   \n",
       "1523         0         0        0  ...        0        0        0        0   \n",
       "2257         1         0        0  ...        0        0        1        0   \n",
       "\n",
       "      month_7  month_8  month_9  month_10  month_11  month_12  \n",
       "619         0        1        0         0         0         0  \n",
       "1314        0        0        0         0         0         0  \n",
       "861         1        0        0         0         0         0  \n",
       "5384        0        1        0         0         0         0  \n",
       "4283        0        0        0         0         0         0  \n",
       "...       ...      ...      ...       ...       ...       ...  \n",
       "4209        0        0        0         0         0         0  \n",
       "726         0        0        0         0         1         0  \n",
       "1414        0        0        0         0         0         0  \n",
       "1523        0        0        0         0         0         0  \n",
       "2257        0        0        0         0         0         0  \n",
       "\n",
       "[4764 rows x 21 columns]"
      ]
     },
     "execution_count": 17,
     "metadata": {},
     "output_type": "execute_result"
    }
   ],
   "source": [
    "X_train"
   ]
  },
  {
   "cell_type": "code",
   "execution_count": 18,
   "metadata": {},
   "outputs": [],
   "source": [
    "# test 데이터의 runTm 컬럼도 같은 minMax scaler transform\n",
    "X_test.iloc[:,0:6] = mm.transform(X_test.iloc[:, 0:6])"
   ]
  },
  {
   "cell_type": "markdown",
   "metadata": {},
   "source": [
    "## 6. Modelling"
   ]
  },
  {
   "cell_type": "code",
   "execution_count": 19,
   "metadata": {},
   "outputs": [
    {
     "name": "stdout",
     "output_type": "stream",
     "text": [
      "train accuracy :  0.4987405541561713\n",
      "test accuracy :  0.480411361410382\n"
     ]
    }
   ],
   "source": [
    "from sklearn.linear_model import LogisticRegression\n",
    "from sklearn.metrics import accuracy_score\n",
    "\n",
    "lr_clf = LogisticRegression(random_state=13, solver='liblinear')\n",
    "lr_clf.fit(X_train, y_train)\n",
    "lr_pred = lr_clf.predict(X_test)\n",
    "lr_train = lr_clf.predict(X_train)\n",
    "\n",
    "print(\"train accuracy : \", accuracy_score(y_train, lr_train))\n",
    "print(\"test accuracy : \", accuracy_score(y_test, lr_pred))"
   ]
  },
  {
   "cell_type": "code",
   "execution_count": 20,
   "metadata": {},
   "outputs": [
    {
     "name": "stdout",
     "output_type": "stream",
     "text": [
      "train accuracy :  0.8058354324097398\n",
      "test accuracy :  0.722820763956905\n"
     ]
    }
   ],
   "source": [
    "from sklearn.tree import DecisionTreeClassifier\n",
    "\n",
    "dt_clf = DecisionTreeClassifier(random_state=13, max_depth=8)\n",
    "dt_clf.fit(X_train, y_train)\n",
    "dt_pred = dt_clf.predict(X_test)\n",
    "dt_train = dt_clf.predict(X_train)\n",
    "\n",
    "print(\"train accuracy : \", accuracy_score(y_train, dt_train))\n",
    "print(\"test accuracy : \", accuracy_score(y_test, dt_pred))"
   ]
  },
  {
   "cell_type": "code",
   "execution_count": 21,
   "metadata": {},
   "outputs": [
    {
     "name": "stdout",
     "output_type": "stream",
     "text": [
      "Feature: runTm, Score: 0.02184\n",
      "Feature: genre, Score: 0.01009\n",
      "Feature: director, Score: 0.73650\n",
      "Feature: actor, Score: 0.16924\n",
      "Feature: is_adult, Score: 0.00110\n",
      "Feature: distributor, Score: 0.04501\n",
      "Feature: region_1, Score: 0.00141\n",
      "Feature: region_2, Score: 0.00126\n",
      "Feature: region_3, Score: 0.00044\n",
      "Feature: month_1, Score: 0.00135\n",
      "Feature: month_2, Score: 0.00058\n",
      "Feature: month_3, Score: 0.00000\n",
      "Feature: month_4, Score: 0.00054\n",
      "Feature: month_5, Score: 0.00126\n",
      "Feature: month_6, Score: 0.00253\n",
      "Feature: month_7, Score: 0.00101\n",
      "Feature: month_8, Score: 0.00102\n",
      "Feature: month_9, Score: 0.00174\n",
      "Feature: month_10, Score: 0.00118\n",
      "Feature: month_11, Score: 0.00062\n",
      "Feature: month_12, Score: 0.00129\n"
     ]
    },
    {
     "data": {
      "image/png": "[encoded data removed]",
      "text/plain": [
       "<Figure size 432x288 with 1 Axes>"
      ]
     },
     "metadata": {
      "needs_background": "light"
     },
     "output_type": "display_data"
    }
   ],
   "source": [
    "importance = dt_clf.feature_importances_\n",
    "\n",
    "for i, v in enumerate(importance):\n",
    "    print('Feature: %s, Score: %.5f' %(X_train.columns[i],v))\n",
    "\n",
    "plt.bar(X_train.columns, importance)\n",
    "plt.xticks(rotation=60)\n",
    "plt.show()"
   ]
  },
  {
   "cell_type": "code",
   "execution_count": 22,
   "metadata": {},
   "outputs": [
    {
     "name": "stdout",
     "output_type": "stream",
     "text": [
      "train accuracy :  0.9997900923593619\n",
      "test accuracy :  0.7321253672869735\n"
     ]
    }
   ],
   "source": [
    "from sklearn.ensemble import RandomForestClassifier\n",
    "\n",
    "rf_clf = RandomForestClassifier(random_state=13, n_jobs=-1, n_estimators=100)\n",
    "rf_clf.fit(X_train, y_train)\n",
    "rf_pred = rf_clf.predict(X_test)\n",
    "rf_train = rf_clf.predict(X_train)\n",
    "\n",
    "print(\"train accuracy : \", accuracy_score(y_train, rf_train))\n",
    "print(\"test accuracy : \", accuracy_score(y_test, rf_pred))"
   ]
  },
  {
   "cell_type": "code",
   "execution_count": 23,
   "metadata": {},
   "outputs": [
    {
     "name": "stdout",
     "output_type": "stream",
     "text": [
      "Feature: runTm, Score: 0.09276\n",
      "Feature: genre, Score: 0.05561\n",
      "Feature: director, Score: 0.32189\n",
      "Feature: actor, Score: 0.25454\n",
      "Feature: is_adult, Score: 0.01246\n",
      "Feature: distributor, Score: 0.13889\n",
      "Feature: region_1, Score: 0.00867\n",
      "Feature: region_2, Score: 0.00883\n",
      "Feature: region_3, Score: 0.01285\n",
      "Feature: month_1, Score: 0.00772\n",
      "Feature: month_2, Score: 0.00925\n",
      "Feature: month_3, Score: 0.00787\n",
      "Feature: month_4, Score: 0.00833\n",
      "Feature: month_5, Score: 0.00739\n",
      "Feature: month_6, Score: 0.00673\n",
      "Feature: month_7, Score: 0.00658\n",
      "Feature: month_8, Score: 0.00782\n",
      "Feature: month_9, Score: 0.00847\n",
      "Feature: month_10, Score: 0.00772\n",
      "Feature: month_11, Score: 0.00817\n",
      "Feature: month_12, Score: 0.00745\n"
     ]
    },
    {
     "data": {
      "image/png": "[encoded data removed]",
      "text/plain": [
       "<Figure size 432x288 with 1 Axes>"
      ]
     },
     "metadata": {
      "needs_background": "light"
     },
     "output_type": "display_data"
    }
   ],
   "source": [
    "importance = rf_clf.feature_importances_\n",
    "\n",
    "for i, v in enumerate(importance):\n",
    "    print('Feature: %s, Score: %.5f' %(X_train.columns[i],v))\n",
    "\n",
    "plt.bar(X_train.columns, importance)\n",
    "plt.xticks(rotation=60)\n",
    "plt.show()"
   ]
  },
  {
   "cell_type": "code",
   "execution_count": 24,
   "metadata": {},
   "outputs": [
    {
     "name": "stdout",
     "output_type": "stream",
     "text": [
      "train accuracy :  0.9997900923593619\n",
      "test accuracy :  0.7331047992164544\n"
     ]
    }
   ],
   "source": [
    "from lightgbm import LGBMClassifier\n",
    "\n",
    "lgbm_clf = LGBMClassifier(random_state=13, n_jobs=-1, n_estimators=1000, num_leaves=64, boost_from_average = False)\n",
    "lgbm_clf.fit(X_train, y_train)\n",
    "lgbm_pred = lgbm_clf.predict(X_test)\n",
    "lgbm_train = rf_clf.predict(X_train)\n",
    "\n",
    "print(\"train accuracy : \", accuracy_score(y_train, lgbm_train))\n",
    "print(\"test accuracy : \", accuracy_score(y_test, lgbm_pred))"
   ]
  },
  {
   "cell_type": "code",
   "execution_count": 25,
   "metadata": {},
   "outputs": [
    {
     "name": "stdout",
     "output_type": "stream",
     "text": [
      "Feature: runTm, Score: 34614.00000\n",
      "Feature: genre, Score: 14102.00000\n",
      "Feature: director, Score: 38182.00000\n",
      "Feature: actor, Score: 39200.00000\n",
      "Feature: is_adult, Score: 2246.00000\n",
      "Feature: distributor, Score: 30066.00000\n",
      "Feature: region_1, Score: 1779.00000\n",
      "Feature: region_2, Score: 2293.00000\n",
      "Feature: region_3, Score: 1523.00000\n",
      "Feature: month_1, Score: 1077.00000\n",
      "Feature: month_2, Score: 1380.00000\n",
      "Feature: month_3, Score: 996.00000\n",
      "Feature: month_4, Score: 1191.00000\n",
      "Feature: month_5, Score: 895.00000\n",
      "Feature: month_6, Score: 798.00000\n",
      "Feature: month_7, Score: 820.00000\n",
      "Feature: month_8, Score: 1084.00000\n",
      "Feature: month_9, Score: 1041.00000\n",
      "Feature: month_10, Score: 1139.00000\n",
      "Feature: month_11, Score: 1068.00000\n",
      "Feature: month_12, Score: 1163.00000\n"
     ]
    },
    {
     "data": {
      "image/png": "[encoded data removed]",
      "text/plain": [
       "<Figure size 432x288 with 1 Axes>"
      ]
     },
     "metadata": {
      "needs_background": "light"
     },
     "output_type": "display_data"
    }
   ],
   "source": [
    "importance = lgbm_clf.feature_importances_\n",
    "\n",
    "for i, v in enumerate(importance):\n",
    "    print('Feature: %s, Score: %.5f' %(X_train.columns[i],v))\n",
    "\n",
    "plt.bar(X_train.columns, importance)\n",
    "plt.xticks(rotation=60)\n",
    "plt.show()"
   ]
  },
  {
   "cell_type": "markdown",
   "metadata": {},
   "source": [
    "## 7. Boosting"
   ]
  },
  {
   "cell_type": "code",
   "execution_count": 26,
   "metadata": {},
   "outputs": [],
   "source": [
    "from sklearn.ensemble import GradientBoostingClassifier\n",
    "import time\n",
    "import warnings\n",
    "\n",
    "warnings.filterwarnings('ignore')"
   ]
  },
  {
   "cell_type": "code",
   "execution_count": 27,
   "metadata": {},
   "outputs": [
    {
     "name": "stdout",
     "output_type": "stream",
     "text": [
      "ACC :  0.7536728697355534\n",
      "Fit time :  8.989070892333984\n"
     ]
    }
   ],
   "source": [
    "start_time = time.time()\n",
    "\n",
    "gb_clf = GradientBoostingClassifier(random_state=13, n_estimators=100, learning_rate=0.01, max_depth=4)\n",
    "gb_clf.fit(X_train, y_train)\n",
    "gb_pred = gb_clf.predict(X_test)\n",
    "gb_train_pd = gb_clf.predict(X_train)\n",
    "\n",
    "print(\"ACC : \", accuracy_score(y_test, gb_pred))\n",
    "print(\"Fit time : \", time.time() - start_time)"
   ]
  },
  {
   "cell_type": "code",
   "execution_count": 28,
   "metadata": {},
   "outputs": [
    {
     "name": "stdout",
     "output_type": "stream",
     "text": [
      "Train Accuracy :  0.7928211586901763\n",
      "Test Accuracy :  0.7536728697355534\n"
     ]
    }
   ],
   "source": [
    "print(\"Train Accuracy : \", accuracy_score(y_train, gb_train_pd))\n",
    "print(\"Test Accuracy : \", accuracy_score(y_test, gb_pred))"
   ]
  },
  {
   "cell_type": "code",
   "execution_count": 61,
   "metadata": {},
   "outputs": [
    {
     "name": "stdout",
     "output_type": "stream",
     "text": [
      "Fitting 2 folds for each of 4 candidates, totalling 8 fits\n",
      "ACC :  0.7487757100881489\n",
      "Fit time :  55.42062425613403\n"
     ]
    }
   ],
   "source": [
    "from sklearn.model_selection import GridSearchCV\n",
    "\n",
    "params = {\n",
    "    'n_estimators' : [100, 300],\n",
    "    'learning_rate' : [0.01, 0.1]\n",
    "}\n",
    "\n",
    "start_time = time.time()\n",
    "grid = GridSearchCV(gb_clf, param_grid=params, cv=2, verbose=1, n_jobs=-1)\n",
    "grid.fit(X_train, y_train)\n",
    "grid_pred = grid.predict(X_test)\n",
    "grid_train_pd = grid.predict(X_train)\n",
    "\n",
    "print(\"ACC : \", accuracy_score(y_test, grid_pred))\n",
    "print(\"Fit time : \", time.time() - start_time)"
   ]
  },
  {
   "cell_type": "code",
   "execution_count": 62,
   "metadata": {},
   "outputs": [
    {
     "name": "stdout",
     "output_type": "stream",
     "text": [
      "Train Accuracy :  0.8316540722082284\n",
      "Test Accuracy :  0.7487757100881489\n"
     ]
    }
   ],
   "source": [
    "print(\"Train Accuracy : \", accuracy_score(y_train, grid_train_pd))\n",
    "print(\"Test Accuracy : \", accuracy_score(y_test, grid_pred))"
   ]
  },
  {
   "cell_type": "code",
   "execution_count": 31,
   "metadata": {},
   "outputs": [],
   "source": [
    "y_train_copy = y_train.copy()\n",
    "y_test_copy = y_test.copy()\n",
    "\n",
    "y_train_copy -= 1\n",
    "y_test_copy -= 1"
   ]
  },
  {
   "cell_type": "code",
   "execution_count": 49,
   "metadata": {},
   "outputs": [
    {
     "name": "stdout",
     "output_type": "stream",
     "text": [
      "Accuracy :  0.7512242899118511\n",
      "Fit time :  3.2442002296447754\n"
     ]
    }
   ],
   "source": [
    "from xgboost import XGBClassifier\n",
    "\n",
    "start_time = time.time()\n",
    "xgb = XGBClassifier(n_estimators=200, learning_rate=0.01, max_depth=3)\n",
    "xgb.fit(X_train.values, y_train_copy.values)\n",
    "\n",
    "print(\"Accuracy : \", accuracy_score(y_test_copy.values, xgb.predict(X_test.values)))\n",
    "print('Fit time : ', time.time() - start_time)"
   ]
  },
  {
   "cell_type": "code",
   "execution_count": 50,
   "metadata": {},
   "outputs": [
    {
     "name": "stdout",
     "output_type": "stream",
     "text": [
      "Train Accuracy :  0.764063811922754\n",
      "Test Accuracy :  0.7512242899118511\n"
     ]
    }
   ],
   "source": [
    "print(\"Train Accuracy : \", accuracy_score(y_train_copy.values, xgb.predict(X_train.values)))\n",
    "print(\"Test Accuracy : \", accuracy_score(y_test_copy.values, xgb.predict(X_test.values)))"
   ]
  },
  {
   "cell_type": "code",
   "execution_count": 59,
   "metadata": {},
   "outputs": [
    {
     "name": "stdout",
     "output_type": "stream",
     "text": [
      "Accuracy :  0.7056807051909892\n",
      "Fit time :  5.1886608600616455\n"
     ]
    }
   ],
   "source": [
    "from sklearn.ensemble import AdaBoostClassifier\n",
    "\n",
    "start_time = time.time()\n",
    "abc = AdaBoostClassifier(n_estimators=200, base_estimator= dt_clf ,learning_rate=0.01)\n",
    "abc.fit(X_train.values, y_train.values)\n",
    "abc_pred = abc.predict(X_test)\n",
    "abc_train_pd = abc.predict(X_train)\n",
    "\n",
    "print(\"Accuracy : \", accuracy_score(y_test.values, abc_pred))\n",
    "print('Fit time : ', time.time() - start_time)"
   ]
  },
  {
   "cell_type": "code",
   "execution_count": 60,
   "metadata": {},
   "outputs": [
    {
     "name": "stdout",
     "output_type": "stream",
     "text": [
      "Train Accuracy :  0.9429051217464316\n",
      "Test Accuracy :  0.7056807051909892\n"
     ]
    }
   ],
   "source": [
    "print(\"Train Accuracy : \", accuracy_score(y_train, abc_train_pd))\n",
    "print(\"Test Accuracy : \", accuracy_score(y_test, abc_pred))"
   ]
  },
  {
   "cell_type": "markdown",
   "metadata": {},
   "source": [
    "---"
   ]
  },
  {
   "cell_type": "markdown",
   "metadata": {},
   "source": [
    "## 8. Conclusion"
   ]
  },
  {
   "cell_type": "markdown",
   "metadata": {},
   "source": [
    "- 세번째 시도와의 차이점으로는 개봉 월을 중앙값 치환이 아닌 레이블 인코딩을 돌렸다.\n",
    "- 개봉 월 자체가 중요한 feature가 아니어서 세번째와 다섯번째 시도에 뚜렸한 성능 차이는 보이지 않는다."
   ]
  },
  {
   "cell_type": "markdown",
   "metadata": {},
   "source": []
  }
 ],
 "metadata": {
  "interpreter": {
   "hash": "b7aa211e7bca77fc4bb14274315b0408e0e6a64091334681f2e02eb64b640725"
  },
  "kernelspec": {
   "display_name": "Python 3.8.13 ('ds_study')",
   "language": "python",
   "name": "python3"
  },
  "language_info": {
   "codemirror_mode": {
    "name": "ipython",
    "version": 3
   },
   "file_extension": ".py",
   "mimetype": "text/x-python",
   "name": "python",
   "nbconvert_exporter": "python",
   "pygments_lexer": "ipython3",
   "version": "3.8.13"
  },
  "orig_nbformat": 4
 },
 "nbformat": 4,
 "nbformat_minor": 2
}
