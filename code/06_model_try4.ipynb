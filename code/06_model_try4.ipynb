{
 "cells": [
  {
   "cell_type": "markdown",
   "metadata": {},
   "source": [
    "# 네번째 시도"
   ]
  },
  {
   "cell_type": "markdown",
   "metadata": {},
   "source": [
    "Key Attempts:\n",
    "- 감독, 배급사, 배우, 장르, 개봉월은 각 레이블의 관객수 평균값으로 치환\n",
    "- 국가는 0,1 레이블 인코딩\n",
    "- 감독, 배급사, 배우, 장르, 개봉월, 상영시간 normalise"
   ]
  },
  {
   "cell_type": "code",
   "execution_count": 1,
   "metadata": {},
   "outputs": [],
   "source": [
    "import pandas as pd\n",
    "import matplotlib.pyplot as plt"
   ]
  },
  {
   "cell_type": "code",
   "execution_count": 2,
   "metadata": {},
   "outputs": [],
   "source": [
    "df = pd.read_csv('./data/join_final.csv', encoding='utf-8-sig', thousands=',')"
   ]
  },
  {
   "cell_type": "code",
   "execution_count": 3,
   "metadata": {},
   "outputs": [
    {
     "name": "stdout",
     "output_type": "stream",
     "text": [
      "<class 'pandas.core.frame.DataFrame'>\n",
      "RangeIndex: 6806 entries, 0 to 6805\n",
      "Data columns (total 9 columns):\n",
      " #   Column       Non-Null Count  Dtype  \n",
      "---  ------       --------------  -----  \n",
      " 0   runTm        6806 non-null   float64\n",
      " 1   nation       6806 non-null   int64  \n",
      " 2   genre        6806 non-null   int64  \n",
      " 3   director     6806 non-null   object \n",
      " 4   actor        6806 non-null   object \n",
      " 5   is_adult     6806 non-null   float64\n",
      " 6   distributor  6806 non-null   object \n",
      " 7   view         6806 non-null   int64  \n",
      " 8   openMonth    6806 non-null   int64  \n",
      "dtypes: float64(2), int64(4), object(3)\n",
      "memory usage: 478.7+ KB\n"
     ]
    }
   ],
   "source": [
    "df.info()"
   ]
  },
  {
   "cell_type": "markdown",
   "metadata": {},
   "source": [
    "## 1. 평균 값 치환"
   ]
  },
  {
   "cell_type": "code",
   "execution_count": 4,
   "metadata": {},
   "outputs": [],
   "source": [
    "# 감독, 배우, 배급사 각각의 평균 값 테이블 만들기\n",
    "director = df.groupby('director').agg({\"view\":\"mean\"}).reset_index()\n",
    "actor = df.groupby('actor').agg({\"view\":\"mean\"}).reset_index()\n",
    "distributor = df.groupby('distributor').agg({\"view\":\"mean\"}).reset_index()\n",
    "month = df.groupby('openMonth').agg({\"view\":\"mean\"}).reset_index()\n",
    "genre = df.groupby('genre').agg({\"view\":\"mean\"}).reset_index()"
   ]
  },
  {
   "cell_type": "code",
   "execution_count": 5,
   "metadata": {},
   "outputs": [],
   "source": [
    "for idx, row in df.iterrows():\n",
    "    act = row['actor']\n",
    "    dist = row['distributor']\n",
    "    dir = row['director']\n",
    "    m = row['openMonth']\n",
    "    g = row['genre']\n",
    "\n",
    "    a_val = actor[actor['actor'] == act]['view'].values[0]\n",
    "    df.loc[idx, 'actor'] = a_val\n",
    "\n",
    "    dist_val = distributor[distributor['distributor'] == dist]['view'].values[0]\n",
    "    df.loc[idx, 'distributor'] = dist_val\n",
    "\n",
    "    dir_val = director[director['director'] == dir]['view'].values[0]\n",
    "    df.loc[idx, 'director'] = dir_val\n",
    "\n",
    "    m_val = month[month['openMonth'] == m]['view'].values[0]\n",
    "    df.loc[idx, 'openMonth'] = m_val\n",
    "\n",
    "    g_val = genre[genre['genre'] == g]['view'].values[0]\n",
    "    df.loc[idx, 'genre'] = g_val"
   ]
  },
  {
   "cell_type": "code",
   "execution_count": 6,
   "metadata": {},
   "outputs": [
    {
     "data": {
      "text/html": [
       "<div>\n",
       "<style scoped>\n",
       "    .dataframe tbody tr th:only-of-type {\n",
       "        vertical-align: middle;\n",
       "    }\n",
       "\n",
       "    .dataframe tbody tr th {\n",
       "        vertical-align: top;\n",
       "    }\n",
       "\n",
       "    .dataframe thead th {\n",
       "        text-align: right;\n",
       "    }\n",
       "</style>\n",
       "<table border=\"1\" class=\"dataframe\">\n",
       "  <thead>\n",
       "    <tr style=\"text-align: right;\">\n",
       "      <th></th>\n",
       "      <th>runTm</th>\n",
       "      <th>nation</th>\n",
       "      <th>genre</th>\n",
       "      <th>director</th>\n",
       "      <th>actor</th>\n",
       "      <th>is_adult</th>\n",
       "      <th>distributor</th>\n",
       "      <th>view</th>\n",
       "      <th>openMonth</th>\n",
       "    </tr>\n",
       "  </thead>\n",
       "  <tbody>\n",
       "    <tr>\n",
       "      <th>0</th>\n",
       "      <td>136.0</td>\n",
       "      <td>2</td>\n",
       "      <td>267770.564434</td>\n",
       "      <td>1307109.25</td>\n",
       "      <td>1412308.785714</td>\n",
       "      <td>0.0</td>\n",
       "      <td>1088485.983784</td>\n",
       "      <td>1865469</td>\n",
       "      <td>740111.463320</td>\n",
       "    </tr>\n",
       "    <tr>\n",
       "      <th>1</th>\n",
       "      <td>119.0</td>\n",
       "      <td>3</td>\n",
       "      <td>946460.143552</td>\n",
       "      <td>7290.4</td>\n",
       "      <td>17258.0</td>\n",
       "      <td>0.0</td>\n",
       "      <td>17985.852941</td>\n",
       "      <td>24634</td>\n",
       "      <td>516172.288462</td>\n",
       "    </tr>\n",
       "    <tr>\n",
       "      <th>2</th>\n",
       "      <td>116.0</td>\n",
       "      <td>1</td>\n",
       "      <td>363392.038462</td>\n",
       "      <td>7678650.2</td>\n",
       "      <td>3846923.466667</td>\n",
       "      <td>1.0</td>\n",
       "      <td>1650243.296117</td>\n",
       "      <td>943241</td>\n",
       "      <td>338627.196891</td>\n",
       "    </tr>\n",
       "    <tr>\n",
       "      <th>3</th>\n",
       "      <td>125.0</td>\n",
       "      <td>2</td>\n",
       "      <td>682163.864078</td>\n",
       "      <td>842257.9</td>\n",
       "      <td>402432.5</td>\n",
       "      <td>0.0</td>\n",
       "      <td>40571.71123</td>\n",
       "      <td>85594</td>\n",
       "      <td>253381.393617</td>\n",
       "    </tr>\n",
       "    <tr>\n",
       "      <th>4</th>\n",
       "      <td>105.0</td>\n",
       "      <td>1</td>\n",
       "      <td>404595.269956</td>\n",
       "      <td>193554.0</td>\n",
       "      <td>193554.0</td>\n",
       "      <td>0.0</td>\n",
       "      <td>100373.2</td>\n",
       "      <td>193554</td>\n",
       "      <td>428123.391892</td>\n",
       "    </tr>\n",
       "  </tbody>\n",
       "</table>\n",
       "</div>"
      ],
      "text/plain": [
       "   runTm  nation          genre    director           actor  is_adult  \\\n",
       "0  136.0       2  267770.564434  1307109.25  1412308.785714       0.0   \n",
       "1  119.0       3  946460.143552      7290.4         17258.0       0.0   \n",
       "2  116.0       1  363392.038462   7678650.2  3846923.466667       1.0   \n",
       "3  125.0       2  682163.864078    842257.9        402432.5       0.0   \n",
       "4  105.0       1  404595.269956    193554.0        193554.0       0.0   \n",
       "\n",
       "      distributor     view      openMonth  \n",
       "0  1088485.983784  1865469  740111.463320  \n",
       "1    17985.852941    24634  516172.288462  \n",
       "2  1650243.296117   943241  338627.196891  \n",
       "3     40571.71123    85594  253381.393617  \n",
       "4        100373.2   193554  428123.391892  "
      ]
     },
     "execution_count": 6,
     "metadata": {},
     "output_type": "execute_result"
    }
   ],
   "source": [
    "df.head()"
   ]
  },
  {
   "cell_type": "markdown",
   "metadata": {},
   "source": [
    "## 2. 관객 수 범주형 변환"
   ]
  },
  {
   "cell_type": "code",
   "execution_count": 7,
   "metadata": {},
   "outputs": [],
   "source": [
    "for idx, row in df.iterrows():\n",
    "    val = row['view']\n",
    "    if val <10000:\n",
    "        df.loc[idx, 'view'] = 1\n",
    "    elif val <100000:\n",
    "        df.loc[idx, 'view'] = 2\n",
    "    elif val <200000:\n",
    "        df.loc[idx, 'view'] = 3\n",
    "    elif val <400000:\n",
    "        df.loc[idx, 'view'] = 4\n",
    "    elif val <600000:\n",
    "        df.loc[idx, 'view'] = 5\n",
    "    elif val <800000:\n",
    "        df.loc[idx, 'view'] = 6\n",
    "    elif val <1000000:\n",
    "        df.loc[idx, 'view'] = 7\n",
    "    else:\n",
    "        df.loc[idx, 'view'] = 8"
   ]
  },
  {
   "cell_type": "markdown",
   "metadata": {},
   "source": [
    "## 3. 라벨인코딩"
   ]
  },
  {
   "cell_type": "code",
   "execution_count": 8,
   "metadata": {},
   "outputs": [],
   "source": [
    "y = df['view']\n",
    "X = df.drop('view', axis=1)"
   ]
  },
  {
   "cell_type": "code",
   "execution_count": 9,
   "metadata": {},
   "outputs": [
    {
     "name": "stdout",
     "output_type": "stream",
     "text": [
      "<class 'pandas.core.frame.DataFrame'>\n",
      "RangeIndex: 6806 entries, 0 to 6805\n",
      "Data columns (total 8 columns):\n",
      " #   Column       Non-Null Count  Dtype  \n",
      "---  ------       --------------  -----  \n",
      " 0   runTm        6806 non-null   float64\n",
      " 1   nation       6806 non-null   int64  \n",
      " 2   genre        6806 non-null   float64\n",
      " 3   director     6806 non-null   object \n",
      " 4   actor        6806 non-null   object \n",
      " 5   is_adult     6806 non-null   float64\n",
      " 6   distributor  6806 non-null   object \n",
      " 7   openMonth    6806 non-null   float64\n",
      "dtypes: float64(4), int64(1), object(3)\n",
      "memory usage: 425.5+ KB\n"
     ]
    }
   ],
   "source": [
    "X.info()"
   ]
  },
  {
   "cell_type": "code",
   "execution_count": 10,
   "metadata": {},
   "outputs": [],
   "source": [
    "X = pd.get_dummies(data = X, columns=['nation'], prefix='region')"
   ]
  },
  {
   "cell_type": "code",
   "execution_count": 11,
   "metadata": {},
   "outputs": [
    {
     "data": {
      "text/plain": [
       "Index(['runTm', 'genre', 'director', 'actor', 'is_adult', 'distributor',\n",
       "       'openMonth', 'region_1', 'region_2', 'region_3'],\n",
       "      dtype='object')"
      ]
     },
     "execution_count": 11,
     "metadata": {},
     "output_type": "execute_result"
    }
   ],
   "source": [
    "X.columns"
   ]
  },
  {
   "cell_type": "markdown",
   "metadata": {},
   "source": [
    "## 4. 데이터 스플릿"
   ]
  },
  {
   "cell_type": "code",
   "execution_count": 12,
   "metadata": {},
   "outputs": [],
   "source": [
    "from sklearn.model_selection import train_test_split\n",
    "\n",
    "X_train, X_test, y_train, y_test = train_test_split(X, y, test_size=0.3, random_state=13, stratify=y)"
   ]
  },
  {
   "cell_type": "markdown",
   "metadata": {},
   "source": [
    "## 5. Normalise"
   ]
  },
  {
   "cell_type": "code",
   "execution_count": 13,
   "metadata": {},
   "outputs": [
    {
     "data": {
      "text/html": [
       "<div>\n",
       "<style scoped>\n",
       "    .dataframe tbody tr th:only-of-type {\n",
       "        vertical-align: middle;\n",
       "    }\n",
       "\n",
       "    .dataframe tbody tr th {\n",
       "        vertical-align: top;\n",
       "    }\n",
       "\n",
       "    .dataframe thead th {\n",
       "        text-align: right;\n",
       "    }\n",
       "</style>\n",
       "<table border=\"1\" class=\"dataframe\">\n",
       "  <thead>\n",
       "    <tr style=\"text-align: right;\">\n",
       "      <th></th>\n",
       "      <th>runTm</th>\n",
       "      <th>genre</th>\n",
       "      <th>director</th>\n",
       "      <th>actor</th>\n",
       "      <th>is_adult</th>\n",
       "      <th>distributor</th>\n",
       "      <th>openMonth</th>\n",
       "      <th>region_1</th>\n",
       "      <th>region_2</th>\n",
       "      <th>region_3</th>\n",
       "    </tr>\n",
       "  </thead>\n",
       "  <tbody>\n",
       "    <tr>\n",
       "      <th>619</th>\n",
       "      <td>111.0</td>\n",
       "      <td>289994.858283</td>\n",
       "      <td>219824.0</td>\n",
       "      <td>333113.333333</td>\n",
       "      <td>0.0</td>\n",
       "      <td>729392.342105</td>\n",
       "      <td>489536.979452</td>\n",
       "      <td>1</td>\n",
       "      <td>0</td>\n",
       "      <td>0</td>\n",
       "    </tr>\n",
       "    <tr>\n",
       "      <th>1314</th>\n",
       "      <td>78.0</td>\n",
       "      <td>268377.978166</td>\n",
       "      <td>214097.0</td>\n",
       "      <td>32517.5</td>\n",
       "      <td>0.0</td>\n",
       "      <td>16446.8</td>\n",
       "      <td>428123.391892</td>\n",
       "      <td>0</td>\n",
       "      <td>0</td>\n",
       "      <td>1</td>\n",
       "    </tr>\n",
       "    <tr>\n",
       "      <th>861</th>\n",
       "      <td>98.0</td>\n",
       "      <td>264378.725424</td>\n",
       "      <td>179638.0</td>\n",
       "      <td>146660.5</td>\n",
       "      <td>1.0</td>\n",
       "      <td>843950.231293</td>\n",
       "      <td>740111.463320</td>\n",
       "      <td>0</td>\n",
       "      <td>0</td>\n",
       "      <td>1</td>\n",
       "    </tr>\n",
       "    <tr>\n",
       "      <th>5384</th>\n",
       "      <td>123.0</td>\n",
       "      <td>267770.564434</td>\n",
       "      <td>11067.0</td>\n",
       "      <td>11067.0</td>\n",
       "      <td>0.0</td>\n",
       "      <td>292852.492537</td>\n",
       "      <td>489536.979452</td>\n",
       "      <td>1</td>\n",
       "      <td>0</td>\n",
       "      <td>0</td>\n",
       "    </tr>\n",
       "    <tr>\n",
       "      <th>4283</th>\n",
       "      <td>119.0</td>\n",
       "      <td>268377.978166</td>\n",
       "      <td>44770.5</td>\n",
       "      <td>49832.0</td>\n",
       "      <td>0.0</td>\n",
       "      <td>19666.666667</td>\n",
       "      <td>253381.393617</td>\n",
       "      <td>0</td>\n",
       "      <td>0</td>\n",
       "      <td>1</td>\n",
       "    </tr>\n",
       "    <tr>\n",
       "      <th>...</th>\n",
       "      <td>...</td>\n",
       "      <td>...</td>\n",
       "      <td>...</td>\n",
       "      <td>...</td>\n",
       "      <td>...</td>\n",
       "      <td>...</td>\n",
       "      <td>...</td>\n",
       "      <td>...</td>\n",
       "      <td>...</td>\n",
       "      <td>...</td>\n",
       "    </tr>\n",
       "    <tr>\n",
       "      <th>4209</th>\n",
       "      <td>104.0</td>\n",
       "      <td>404595.269956</td>\n",
       "      <td>47923.0</td>\n",
       "      <td>1137159.5</td>\n",
       "      <td>0.0</td>\n",
       "      <td>1088485.983784</td>\n",
       "      <td>366682.466543</td>\n",
       "      <td>0</td>\n",
       "      <td>1</td>\n",
       "      <td>0</td>\n",
       "    </tr>\n",
       "    <tr>\n",
       "      <th>726</th>\n",
       "      <td>110.0</td>\n",
       "      <td>404595.269956</td>\n",
       "      <td>2586487.375</td>\n",
       "      <td>455980.2</td>\n",
       "      <td>0.0</td>\n",
       "      <td>843950.231293</td>\n",
       "      <td>294312.435312</td>\n",
       "      <td>1</td>\n",
       "      <td>0</td>\n",
       "      <td>0</td>\n",
       "    </tr>\n",
       "    <tr>\n",
       "      <th>1414</th>\n",
       "      <td>166.0</td>\n",
       "      <td>267770.564434</td>\n",
       "      <td>774578.5</td>\n",
       "      <td>845478.25</td>\n",
       "      <td>0.0</td>\n",
       "      <td>620777.25</td>\n",
       "      <td>366682.466543</td>\n",
       "      <td>0</td>\n",
       "      <td>1</td>\n",
       "      <td>0</td>\n",
       "    </tr>\n",
       "    <tr>\n",
       "      <th>1523</th>\n",
       "      <td>100.0</td>\n",
       "      <td>404595.269956</td>\n",
       "      <td>60219.0</td>\n",
       "      <td>391019.8</td>\n",
       "      <td>0.0</td>\n",
       "      <td>1019921.020492</td>\n",
       "      <td>366682.466543</td>\n",
       "      <td>1</td>\n",
       "      <td>0</td>\n",
       "      <td>0</td>\n",
       "    </tr>\n",
       "    <tr>\n",
       "      <th>2257</th>\n",
       "      <td>100.0</td>\n",
       "      <td>267770.564434</td>\n",
       "      <td>3325.0</td>\n",
       "      <td>3325.0</td>\n",
       "      <td>0.0</td>\n",
       "      <td>3937.5</td>\n",
       "      <td>415590.380435</td>\n",
       "      <td>0</td>\n",
       "      <td>1</td>\n",
       "      <td>0</td>\n",
       "    </tr>\n",
       "  </tbody>\n",
       "</table>\n",
       "<p>4764 rows × 10 columns</p>\n",
       "</div>"
      ],
      "text/plain": [
       "      runTm          genre     director          actor  is_adult  \\\n",
       "619   111.0  289994.858283     219824.0  333113.333333       0.0   \n",
       "1314   78.0  268377.978166     214097.0        32517.5       0.0   \n",
       "861    98.0  264378.725424     179638.0       146660.5       1.0   \n",
       "5384  123.0  267770.564434      11067.0        11067.0       0.0   \n",
       "4283  119.0  268377.978166      44770.5        49832.0       0.0   \n",
       "...     ...            ...          ...            ...       ...   \n",
       "4209  104.0  404595.269956      47923.0      1137159.5       0.0   \n",
       "726   110.0  404595.269956  2586487.375       455980.2       0.0   \n",
       "1414  166.0  267770.564434     774578.5      845478.25       0.0   \n",
       "1523  100.0  404595.269956      60219.0       391019.8       0.0   \n",
       "2257  100.0  267770.564434       3325.0         3325.0       0.0   \n",
       "\n",
       "         distributor      openMonth  region_1  region_2  region_3  \n",
       "619    729392.342105  489536.979452         1         0         0  \n",
       "1314         16446.8  428123.391892         0         0         1  \n",
       "861    843950.231293  740111.463320         0         0         1  \n",
       "5384   292852.492537  489536.979452         1         0         0  \n",
       "4283    19666.666667  253381.393617         0         0         1  \n",
       "...              ...            ...       ...       ...       ...  \n",
       "4209  1088485.983784  366682.466543         0         1         0  \n",
       "726    843950.231293  294312.435312         1         0         0  \n",
       "1414       620777.25  366682.466543         0         1         0  \n",
       "1523  1019921.020492  366682.466543         1         0         0  \n",
       "2257          3937.5  415590.380435         0         1         0  \n",
       "\n",
       "[4764 rows x 10 columns]"
      ]
     },
     "execution_count": 13,
     "metadata": {},
     "output_type": "execute_result"
    }
   ],
   "source": [
    "X_train"
   ]
  },
  {
   "cell_type": "code",
   "execution_count": 14,
   "metadata": {},
   "outputs": [],
   "source": [
    "# train data의 runTm 컬럼만 normalisation fit 적용\n",
    "from sklearn.preprocessing import MinMaxScaler\n",
    "\n",
    "mm = MinMaxScaler()\n",
    "X_train.iloc[:,0:7] = mm.fit_transform(X_train.iloc[:, 0:7])"
   ]
  },
  {
   "cell_type": "code",
   "execution_count": 15,
   "metadata": {},
   "outputs": [
    {
     "data": {
      "text/html": [
       "<div>\n",
       "<style scoped>\n",
       "    .dataframe tbody tr th:only-of-type {\n",
       "        vertical-align: middle;\n",
       "    }\n",
       "\n",
       "    .dataframe tbody tr th {\n",
       "        vertical-align: top;\n",
       "    }\n",
       "\n",
       "    .dataframe thead th {\n",
       "        text-align: right;\n",
       "    }\n",
       "</style>\n",
       "<table border=\"1\" class=\"dataframe\">\n",
       "  <thead>\n",
       "    <tr style=\"text-align: right;\">\n",
       "      <th></th>\n",
       "      <th>runTm</th>\n",
       "      <th>genre</th>\n",
       "      <th>director</th>\n",
       "      <th>actor</th>\n",
       "      <th>is_adult</th>\n",
       "      <th>distributor</th>\n",
       "      <th>openMonth</th>\n",
       "      <th>region_1</th>\n",
       "      <th>region_2</th>\n",
       "      <th>region_3</th>\n",
       "    </tr>\n",
       "  </thead>\n",
       "  <tbody>\n",
       "    <tr>\n",
       "      <th>619</th>\n",
       "      <td>0.309091</td>\n",
       "      <td>0.102992</td>\n",
       "      <td>0.019373</td>\n",
       "      <td>0.033387</td>\n",
       "      <td>0.0</td>\n",
       "      <td>0.211470</td>\n",
       "      <td>0.485188</td>\n",
       "      <td>1</td>\n",
       "      <td>0</td>\n",
       "      <td>0</td>\n",
       "    </tr>\n",
       "    <tr>\n",
       "      <th>1314</th>\n",
       "      <td>0.159091</td>\n",
       "      <td>0.093575</td>\n",
       "      <td>0.018866</td>\n",
       "      <td>0.003168</td>\n",
       "      <td>0.0</td>\n",
       "      <td>0.004485</td>\n",
       "      <td>0.359012</td>\n",
       "      <td>0</td>\n",
       "      <td>0</td>\n",
       "      <td>1</td>\n",
       "    </tr>\n",
       "    <tr>\n",
       "      <th>861</th>\n",
       "      <td>0.250000</td>\n",
       "      <td>0.091832</td>\n",
       "      <td>0.015815</td>\n",
       "      <td>0.014643</td>\n",
       "      <td>1.0</td>\n",
       "      <td>0.244729</td>\n",
       "      <td>1.000000</td>\n",
       "      <td>0</td>\n",
       "      <td>0</td>\n",
       "      <td>1</td>\n",
       "    </tr>\n",
       "    <tr>\n",
       "      <th>5384</th>\n",
       "      <td>0.363636</td>\n",
       "      <td>0.093310</td>\n",
       "      <td>0.000891</td>\n",
       "      <td>0.001012</td>\n",
       "      <td>0.0</td>\n",
       "      <td>0.084732</td>\n",
       "      <td>0.485188</td>\n",
       "      <td>1</td>\n",
       "      <td>0</td>\n",
       "      <td>0</td>\n",
       "    </tr>\n",
       "    <tr>\n",
       "      <th>4283</th>\n",
       "      <td>0.345455</td>\n",
       "      <td>0.093575</td>\n",
       "      <td>0.003875</td>\n",
       "      <td>0.004909</td>\n",
       "      <td>0.0</td>\n",
       "      <td>0.005419</td>\n",
       "      <td>0.000000</td>\n",
       "      <td>0</td>\n",
       "      <td>0</td>\n",
       "      <td>1</td>\n",
       "    </tr>\n",
       "    <tr>\n",
       "      <th>...</th>\n",
       "      <td>...</td>\n",
       "      <td>...</td>\n",
       "      <td>...</td>\n",
       "      <td>...</td>\n",
       "      <td>...</td>\n",
       "      <td>...</td>\n",
       "      <td>...</td>\n",
       "      <td>...</td>\n",
       "      <td>...</td>\n",
       "      <td>...</td>\n",
       "    </tr>\n",
       "    <tr>\n",
       "      <th>4209</th>\n",
       "      <td>0.277273</td>\n",
       "      <td>0.152918</td>\n",
       "      <td>0.004154</td>\n",
       "      <td>0.114217</td>\n",
       "      <td>0.0</td>\n",
       "      <td>0.315723</td>\n",
       "      <td>0.232780</td>\n",
       "      <td>0</td>\n",
       "      <td>1</td>\n",
       "      <td>0</td>\n",
       "    </tr>\n",
       "    <tr>\n",
       "      <th>726</th>\n",
       "      <td>0.304545</td>\n",
       "      <td>0.152918</td>\n",
       "      <td>0.228899</td>\n",
       "      <td>0.045739</td>\n",
       "      <td>0.0</td>\n",
       "      <td>0.244729</td>\n",
       "      <td>0.084094</td>\n",
       "      <td>1</td>\n",
       "      <td>0</td>\n",
       "      <td>0</td>\n",
       "    </tr>\n",
       "    <tr>\n",
       "      <th>1414</th>\n",
       "      <td>0.559091</td>\n",
       "      <td>0.093310</td>\n",
       "      <td>0.068487</td>\n",
       "      <td>0.084894</td>\n",
       "      <td>0.0</td>\n",
       "      <td>0.179936</td>\n",
       "      <td>0.232780</td>\n",
       "      <td>0</td>\n",
       "      <td>1</td>\n",
       "      <td>0</td>\n",
       "    </tr>\n",
       "    <tr>\n",
       "      <th>1523</th>\n",
       "      <td>0.259091</td>\n",
       "      <td>0.152918</td>\n",
       "      <td>0.005243</td>\n",
       "      <td>0.039208</td>\n",
       "      <td>0.0</td>\n",
       "      <td>0.295817</td>\n",
       "      <td>0.232780</td>\n",
       "      <td>1</td>\n",
       "      <td>0</td>\n",
       "      <td>0</td>\n",
       "    </tr>\n",
       "    <tr>\n",
       "      <th>2257</th>\n",
       "      <td>0.259091</td>\n",
       "      <td>0.093310</td>\n",
       "      <td>0.000206</td>\n",
       "      <td>0.000234</td>\n",
       "      <td>0.0</td>\n",
       "      <td>0.000853</td>\n",
       "      <td>0.333263</td>\n",
       "      <td>0</td>\n",
       "      <td>1</td>\n",
       "      <td>0</td>\n",
       "    </tr>\n",
       "  </tbody>\n",
       "</table>\n",
       "<p>4764 rows × 10 columns</p>\n",
       "</div>"
      ],
      "text/plain": [
       "         runTm     genre  director     actor  is_adult  distributor  \\\n",
       "619   0.309091  0.102992  0.019373  0.033387       0.0     0.211470   \n",
       "1314  0.159091  0.093575  0.018866  0.003168       0.0     0.004485   \n",
       "861   0.250000  0.091832  0.015815  0.014643       1.0     0.244729   \n",
       "5384  0.363636  0.093310  0.000891  0.001012       0.0     0.084732   \n",
       "4283  0.345455  0.093575  0.003875  0.004909       0.0     0.005419   \n",
       "...        ...       ...       ...       ...       ...          ...   \n",
       "4209  0.277273  0.152918  0.004154  0.114217       0.0     0.315723   \n",
       "726   0.304545  0.152918  0.228899  0.045739       0.0     0.244729   \n",
       "1414  0.559091  0.093310  0.068487  0.084894       0.0     0.179936   \n",
       "1523  0.259091  0.152918  0.005243  0.039208       0.0     0.295817   \n",
       "2257  0.259091  0.093310  0.000206  0.000234       0.0     0.000853   \n",
       "\n",
       "      openMonth  region_1  region_2  region_3  \n",
       "619    0.485188         1         0         0  \n",
       "1314   0.359012         0         0         1  \n",
       "861    1.000000         0         0         1  \n",
       "5384   0.485188         1         0         0  \n",
       "4283   0.000000         0         0         1  \n",
       "...         ...       ...       ...       ...  \n",
       "4209   0.232780         0         1         0  \n",
       "726    0.084094         1         0         0  \n",
       "1414   0.232780         0         1         0  \n",
       "1523   0.232780         1         0         0  \n",
       "2257   0.333263         0         1         0  \n",
       "\n",
       "[4764 rows x 10 columns]"
      ]
     },
     "execution_count": 15,
     "metadata": {},
     "output_type": "execute_result"
    }
   ],
   "source": [
    "X_train"
   ]
  },
  {
   "cell_type": "code",
   "execution_count": 16,
   "metadata": {},
   "outputs": [],
   "source": [
    "# test 데이터의 runTm 컬럼도 같은 minMax scaler transform\n",
    "X_test.iloc[:,0:7] = mm.transform(X_test.iloc[:, 0:7])"
   ]
  },
  {
   "cell_type": "markdown",
   "metadata": {},
   "source": [
    "## 6. Modelling"
   ]
  },
  {
   "cell_type": "code",
   "execution_count": 17,
   "metadata": {},
   "outputs": [
    {
     "name": "stdout",
     "output_type": "stream",
     "text": [
      "train accuracy :  0.5056675062972292\n",
      "test accuracy :  0.4931439764936337\n"
     ]
    }
   ],
   "source": [
    "from sklearn.linear_model import LogisticRegression\n",
    "from sklearn.metrics import accuracy_score\n",
    "\n",
    "lr_clf = LogisticRegression(random_state=13, solver='liblinear')\n",
    "lr_clf.fit(X_train, y_train)\n",
    "lr_pred = lr_clf.predict(X_test)\n",
    "lr_train = lr_clf.predict(X_train)\n",
    "\n",
    "print(\"train accuracy : \", accuracy_score(y_train, lr_train))\n",
    "print(\"test accuracy : \", accuracy_score(y_test, lr_pred))"
   ]
  },
  {
   "cell_type": "code",
   "execution_count": 18,
   "metadata": {},
   "outputs": [
    {
     "name": "stdout",
     "output_type": "stream",
     "text": [
      "train accuracy :  0.7882031905961377\n",
      "test accuracy :  0.72820763956905\n"
     ]
    }
   ],
   "source": [
    "from sklearn.tree import DecisionTreeClassifier\n",
    "\n",
    "dt_clf = DecisionTreeClassifier(random_state=13, max_depth=8)\n",
    "dt_clf.fit(X_train, y_train)\n",
    "dt_pred = dt_clf.predict(X_test)\n",
    "dt_train = dt_clf.predict(X_train)\n",
    "\n",
    "print(\"train accuracy : \", accuracy_score(y_train, dt_train))\n",
    "print(\"test accuracy : \", accuracy_score(y_test, dt_pred))"
   ]
  },
  {
   "cell_type": "code",
   "execution_count": 19,
   "metadata": {},
   "outputs": [
    {
     "name": "stdout",
     "output_type": "stream",
     "text": [
      "Feature: runTm, Score: 0.01987\n",
      "Feature: genre, Score: 0.00362\n",
      "Feature: director, Score: 0.70015\n",
      "Feature: actor, Score: 0.23298\n",
      "Feature: is_adult, Score: 0.00149\n",
      "Feature: distributor, Score: 0.03400\n",
      "Feature: openMonth, Score: 0.00658\n",
      "Feature: region_1, Score: 0.00000\n",
      "Feature: region_2, Score: 0.00000\n",
      "Feature: region_3, Score: 0.00131\n"
     ]
    },
    {
     "data": {
      "image/png": "[encoded data removed]",
      "text/plain": [
       "<Figure size 432x288 with 1 Axes>"
      ]
     },
     "metadata": {
      "needs_background": "light"
     },
     "output_type": "display_data"
    }
   ],
   "source": [
    "importance = dt_clf.feature_importances_\n",
    "\n",
    "for i, v in enumerate(importance):\n",
    "    print('Feature: %s, Score: %.5f' %(X_train.columns[i],v))\n",
    "\n",
    "plt.bar(X_train.columns, importance)\n",
    "plt.xticks(rotation=60)\n",
    "plt.show()"
   ]
  },
  {
   "cell_type": "code",
   "execution_count": 20,
   "metadata": {},
   "outputs": [
    {
     "name": "stdout",
     "output_type": "stream",
     "text": [
      "train accuracy :  0.9997900923593619\n",
      "test accuracy :  0.7311459353574926\n"
     ]
    }
   ],
   "source": [
    "from sklearn.ensemble import RandomForestClassifier\n",
    "\n",
    "rf_clf = RandomForestClassifier(random_state=13, n_jobs=-1, n_estimators=100)\n",
    "rf_clf.fit(X_train, y_train)\n",
    "rf_pred = rf_clf.predict(X_test)\n",
    "rf_train = rf_clf.predict(X_train)\n",
    "\n",
    "print(\"train accuracy : \", accuracy_score(y_train, rf_train))\n",
    "print(\"test accuracy : \", accuracy_score(y_test, rf_pred))"
   ]
  },
  {
   "cell_type": "code",
   "execution_count": 21,
   "metadata": {},
   "outputs": [
    {
     "name": "stdout",
     "output_type": "stream",
     "text": [
      "Feature: runTm, Score: 0.08919\n",
      "Feature: genre, Score: 0.04898\n",
      "Feature: director, Score: 0.35387\n",
      "Feature: actor, Score: 0.26721\n",
      "Feature: is_adult, Score: 0.01298\n",
      "Feature: distributor, Score: 0.13759\n",
      "Feature: openMonth, Score: 0.06012\n",
      "Feature: region_1, Score: 0.00872\n",
      "Feature: region_2, Score: 0.00816\n",
      "Feature: region_3, Score: 0.01317\n"
     ]
    },
    {
     "data": {
      "image/png": "[encoded data removed]",
      "text/plain": [
       "<Figure size 432x288 with 1 Axes>"
      ]
     },
     "metadata": {
      "needs_background": "light"
     },
     "output_type": "display_data"
    }
   ],
   "source": [
    "importance = rf_clf.feature_importances_\n",
    "\n",
    "for i, v in enumerate(importance):\n",
    "    print('Feature: %s, Score: %.5f' %(X_train.columns[i],v))\n",
    "\n",
    "plt.bar(X_train.columns, importance)\n",
    "plt.xticks(rotation=60)\n",
    "plt.show()"
   ]
  },
  {
   "cell_type": "code",
   "execution_count": 22,
   "metadata": {},
   "outputs": [
    {
     "name": "stdout",
     "output_type": "stream",
     "text": [
      "train accuracy :  0.9997900923593619\n",
      "test accuracy :  0.7179236043095005\n"
     ]
    }
   ],
   "source": [
    "from lightgbm import LGBMClassifier\n",
    "\n",
    "lgbm_clf = LGBMClassifier(random_state=13, n_jobs=-1, n_estimators=1000, num_leaves=64, boost_from_average = False)\n",
    "lgbm_clf.fit(X_train, y_train)\n",
    "lgbm_pred = lgbm_clf.predict(X_test)\n",
    "lgbm_train = rf_clf.predict(X_train)\n",
    "\n",
    "print(\"train accuracy : \", accuracy_score(y_train, lgbm_train))\n",
    "print(\"test accuracy : \", accuracy_score(y_test, lgbm_pred))"
   ]
  },
  {
   "cell_type": "code",
   "execution_count": 23,
   "metadata": {},
   "outputs": [
    {
     "name": "stdout",
     "output_type": "stream",
     "text": [
      "Feature: runTm, Score: 33412.00000\n",
      "Feature: genre, Score: 14561.00000\n",
      "Feature: director, Score: 36773.00000\n",
      "Feature: actor, Score: 39155.00000\n",
      "Feature: is_adult, Score: 2143.00000\n",
      "Feature: distributor, Score: 28888.00000\n",
      "Feature: openMonth, Score: 17747.00000\n",
      "Feature: region_1, Score: 2049.00000\n",
      "Feature: region_2, Score: 2375.00000\n",
      "Feature: region_3, Score: 1781.00000\n"
     ]
    },
    {
     "data": {
      "image/png": "[encoded data removed]",
      "text/plain": [
       "<Figure size 432x288 with 1 Axes>"
      ]
     },
     "metadata": {
      "needs_background": "light"
     },
     "output_type": "display_data"
    }
   ],
   "source": [
    "importance = lgbm_clf.feature_importances_\n",
    "\n",
    "for i, v in enumerate(importance):\n",
    "    print('Feature: %s, Score: %.5f' %(X_train.columns[i],v))\n",
    "\n",
    "plt.bar(X_train.columns, importance)\n",
    "plt.xticks(rotation=60)\n",
    "plt.show()"
   ]
  },
  {
   "cell_type": "markdown",
   "metadata": {},
   "source": [
    "## 7. Boosting"
   ]
  },
  {
   "cell_type": "code",
   "execution_count": 24,
   "metadata": {},
   "outputs": [],
   "source": [
    "from sklearn.ensemble import GradientBoostingClassifier\n",
    "import time\n",
    "import warnings\n",
    "\n",
    "warnings.filterwarnings('ignore')"
   ]
  },
  {
   "cell_type": "code",
   "execution_count": 33,
   "metadata": {},
   "outputs": [
    {
     "name": "stdout",
     "output_type": "stream",
     "text": [
      "ACC :  0.7399608227228207\n",
      "Fit time :  8.627922058105469\n"
     ]
    }
   ],
   "source": [
    "start_time = time.time()\n",
    "\n",
    "gb_clf = GradientBoostingClassifier(random_state=13, n_estimators=100, learning_rate=0.01, max_depth=4)\n",
    "gb_clf.fit(X_train, y_train)\n",
    "gb_pred = gb_clf.predict(X_test)\n",
    "gb_train_pd = gb_clf.predict(X_train)\n",
    "\n",
    "print(\"ACC : \", accuracy_score(y_test, gb_pred))\n",
    "print(\"Fit time : \", time.time() - start_time)"
   ]
  },
  {
   "cell_type": "code",
   "execution_count": 34,
   "metadata": {},
   "outputs": [
    {
     "name": "stdout",
     "output_type": "stream",
     "text": [
      "Train Accuracy :  0.7821158690176322\n",
      "Test Accuracy :  0.7399608227228207\n"
     ]
    }
   ],
   "source": [
    "print(\"Train Accuracy : \", accuracy_score(y_train, gb_train_pd))\n",
    "print(\"Test Accuracy : \", accuracy_score(y_test, gb_pred))"
   ]
  },
  {
   "cell_type": "code",
   "execution_count": 49,
   "metadata": {},
   "outputs": [
    {
     "name": "stdout",
     "output_type": "stream",
     "text": [
      "Fitting 2 folds for each of 4 candidates, totalling 8 fits\n",
      "ACC :  0.7428991185112634\n",
      "Fit time :  49.838501930236816\n"
     ]
    }
   ],
   "source": [
    "from sklearn.model_selection import GridSearchCV\n",
    "\n",
    "params = {\n",
    "    'n_estimators' : [100, 300],\n",
    "    'learning_rate' : [0.01, 0.1]\n",
    "}\n",
    "\n",
    "start_time = time.time()\n",
    "grid = GridSearchCV(gb_clf, param_grid=params, cv=2, verbose=1, n_jobs=-1)\n",
    "grid.fit(X_train, y_train)\n",
    "grid_pred = grid.predict(X_test)\n",
    "grid_train_pd = grid.predict(X_train)\n",
    "\n",
    "print(\"ACC : \", accuracy_score(y_test, grid_pred))\n",
    "print(\"Fit time : \", time.time() - start_time)"
   ]
  },
  {
   "cell_type": "code",
   "execution_count": 50,
   "metadata": {},
   "outputs": [
    {
     "name": "stdout",
     "output_type": "stream",
     "text": [
      "Train Accuracy :  0.8259865659109992\n",
      "Test Accuracy :  0.7428991185112634\n"
     ]
    }
   ],
   "source": [
    "print(\"Train Accuracy : \", accuracy_score(y_train, grid_train_pd))\n",
    "print(\"Test Accuracy : \", accuracy_score(y_test, grid_pred))"
   ]
  },
  {
   "cell_type": "code",
   "execution_count": 37,
   "metadata": {},
   "outputs": [],
   "source": [
    "y_train_copy = y_train.copy()\n",
    "y_test_copy = y_test.copy()\n",
    "\n",
    "y_train_copy -= 1\n",
    "y_test_copy -= 1"
   ]
  },
  {
   "cell_type": "code",
   "execution_count": 38,
   "metadata": {},
   "outputs": [
    {
     "name": "stdout",
     "output_type": "stream",
     "text": [
      "Accuracy :  0.7311459353574926\n",
      "Fit time :  1.499100923538208\n"
     ]
    }
   ],
   "source": [
    "from xgboost import XGBClassifier\n",
    "\n",
    "start_time = time.time()\n",
    "xgb = XGBClassifier(n_estimators=100, learning_rate=0.01, max_depth=3)\n",
    "xgb.fit(X_train.values, y_train_copy.values)\n",
    "\n",
    "print(\"Accuracy : \", accuracy_score(y_test_copy.values, xgb.predict(X_test.values)))\n",
    "print('Fit time : ', time.time() - start_time)"
   ]
  },
  {
   "cell_type": "code",
   "execution_count": 39,
   "metadata": {},
   "outputs": [
    {
     "name": "stdout",
     "output_type": "stream",
     "text": [
      "Train Accuracy :  0.7531486146095718\n",
      "Test Accuracy :  0.7311459353574926\n"
     ]
    }
   ],
   "source": [
    "print(\"Train Accuracy : \", accuracy_score(y_train_copy.values, xgb.predict(X_train.values)))\n",
    "print(\"Test Accuracy : \", accuracy_score(y_test_copy.values, xgb.predict(X_test.values)))"
   ]
  },
  {
   "cell_type": "code",
   "execution_count": 43,
   "metadata": {},
   "outputs": [
    {
     "name": "stdout",
     "output_type": "stream",
     "text": [
      "Accuracy :  0.6684622918707149\n",
      "Fit time :  2.3444430828094482\n"
     ]
    }
   ],
   "source": [
    "from sklearn.ensemble import AdaBoostClassifier\n",
    "\n",
    "start_time = time.time()\n",
    "abc = AdaBoostClassifier(n_estimators=100, base_estimator= dt_clf ,learning_rate=0.1)\n",
    "abc.fit(X_train.values, y_train.values)\n",
    "abc_pred = abc.predict(X_test)\n",
    "abc_train_pd = abc.predict(X_train)\n",
    "\n",
    "print(\"Accuracy : \", accuracy_score(y_test.values, abc_pred))\n",
    "print('Fit time : ', time.time() - start_time)"
   ]
  },
  {
   "cell_type": "code",
   "execution_count": 44,
   "metadata": {},
   "outputs": [
    {
     "name": "stdout",
     "output_type": "stream",
     "text": [
      "Train Accuracy :  0.9321998320738875\n",
      "Test Accuracy :  0.6684622918707149\n"
     ]
    }
   ],
   "source": [
    "print(\"Train Accuracy : \", accuracy_score(y_train, abc_train_pd))\n",
    "print(\"Test Accuracy : \", accuracy_score(y_test, abc_pred))"
   ]
  },
  {
   "cell_type": "markdown",
   "metadata": {},
   "source": [
    "---"
   ]
  },
  {
   "cell_type": "markdown",
   "metadata": {},
   "source": [
    "## 8. Conclusion"
   ]
  },
  {
   "cell_type": "markdown",
   "metadata": {},
   "source": [
    "- 세번째 시도에서 중앙값 치환으로 진행했다면, 이번 시도는 평균값으로 진행하였는데, 전체적으로 중앙 값 치환이 더 적합한 형상을 보인다."
   ]
  },
  {
   "cell_type": "markdown",
   "metadata": {},
   "source": []
  }
 ],
 "metadata": {
  "interpreter": {
   "hash": "b7aa211e7bca77fc4bb14274315b0408e0e6a64091334681f2e02eb64b640725"
  },
  "kernelspec": {
   "display_name": "Python 3.8.13 ('ds_study')",
   "language": "python",
   "name": "python3"
  },
  "language_info": {
   "codemirror_mode": {
    "name": "ipython",
    "version": 3
   },
   "file_extension": ".py",
   "mimetype": "text/x-python",
   "name": "python",
   "nbconvert_exporter": "python",
   "pygments_lexer": "ipython3",
   "version": "3.8.13"
  },
  "orig_nbformat": 4
 },
 "nbformat": 4,
 "nbformat_minor": 2
}
