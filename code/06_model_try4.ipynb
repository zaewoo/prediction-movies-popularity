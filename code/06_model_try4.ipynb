{
 "cells": [
  {
   "cell_type": "markdown",
   "metadata": {},
   "source": [
    "# 네번째 시도"
   ]
  },
  {
   "cell_type": "markdown",
   "metadata": {},
   "source": [
    "Key Attempts:\n",
    "- 감독, 배급사, 배우, 장르, 개봉월은 각 레이블의 관객수 평균값으로 치환\n",
    "- 국가는 0,1 레이블 인코딩\n",
    "- 감독, 배급사, 배우, 장르, 개봉월, 상영시간 normalise"
   ]
  },
  {
   "cell_type": "code",
   "execution_count": 1,
   "metadata": {},
   "outputs": [],
   "source": [
    "import pandas as pd\n",
    "import matplotlib.pyplot as plt"
   ]
  },
  {
   "cell_type": "code",
   "execution_count": 2,
   "metadata": {},
   "outputs": [],
   "source": [
    "df = pd.read_csv('./data/join_final_v5.csv', encoding='utf-8-sig', thousands=',')"
   ]
  },
  {
   "cell_type": "code",
   "execution_count": 3,
   "metadata": {},
   "outputs": [
    {
     "name": "stdout",
     "output_type": "stream",
     "text": [
      "<class 'pandas.core.frame.DataFrame'>\n",
      "RangeIndex: 6806 entries, 0 to 6805\n",
      "Data columns (total 9 columns):\n",
      " #   Column       Non-Null Count  Dtype \n",
      "---  ------       --------------  ----- \n",
      " 0   runTm        6806 non-null   int64 \n",
      " 1   nation       6806 non-null   int64 \n",
      " 2   genre        6806 non-null   int64 \n",
      " 3   director     6806 non-null   object\n",
      " 4   actor        6806 non-null   object\n",
      " 5   is_adult     6806 non-null   int64 \n",
      " 6   distributor  6806 non-null   object\n",
      " 7   view         6806 non-null   int64 \n",
      " 8   openMonth    6806 non-null   int64 \n",
      "dtypes: int64(6), object(3)\n",
      "memory usage: 478.7+ KB\n"
     ]
    }
   ],
   "source": [
    "df.info()"
   ]
  },
  {
   "cell_type": "markdown",
   "metadata": {},
   "source": [
    "## 1. 평균 값 치환"
   ]
  },
  {
   "cell_type": "code",
   "execution_count": 4,
   "metadata": {},
   "outputs": [],
   "source": [
    "# 감독, 배우, 배급사 각각의 평균 값 테이블 만들기\n",
    "director = df.groupby('director').agg({\"view\":\"mean\"}).reset_index()\n",
    "actor = df.groupby('actor').agg({\"view\":\"mean\"}).reset_index()\n",
    "distributor = df.groupby('distributor').agg({\"view\":\"mean\"}).reset_index()\n",
    "month = df.groupby('openMonth').agg({\"view\":\"mean\"}).reset_index()\n",
    "genre = df.groupby('genre').agg({\"view\":\"mean\"}).reset_index()"
   ]
  },
  {
   "cell_type": "code",
   "execution_count": 5,
   "metadata": {},
   "outputs": [],
   "source": [
    "for idx, row in df.iterrows():\n",
    "    act = row['actor']\n",
    "    dist = row['distributor']\n",
    "    dir = row['director']\n",
    "    m = row['openMonth']\n",
    "    g = row['genre']\n",
    "\n",
    "    a_val = actor[actor['actor'] == act]['view'].values[0]\n",
    "    df.loc[idx, 'actor'] = a_val\n",
    "\n",
    "    dist_val = distributor[distributor['distributor'] == dist]['view'].values[0]\n",
    "    df.loc[idx, 'distributor'] = dist_val\n",
    "\n",
    "    dir_val = director[director['director'] == dir]['view'].values[0]\n",
    "    df.loc[idx, 'director'] = dir_val\n",
    "\n",
    "    m_val = month[month['openMonth'] == m]['view'].values[0]\n",
    "    df.loc[idx, 'openMonth'] = m_val\n",
    "\n",
    "    g_val = genre[genre['genre'] == g]['view'].values[0]\n",
    "    df.loc[idx, 'genre'] = g_val"
   ]
  },
  {
   "cell_type": "code",
   "execution_count": 6,
   "metadata": {},
   "outputs": [
    {
     "data": {
      "text/html": [
       "<div>\n",
       "<style scoped>\n",
       "    .dataframe tbody tr th:only-of-type {\n",
       "        vertical-align: middle;\n",
       "    }\n",
       "\n",
       "    .dataframe tbody tr th {\n",
       "        vertical-align: top;\n",
       "    }\n",
       "\n",
       "    .dataframe thead th {\n",
       "        text-align: right;\n",
       "    }\n",
       "</style>\n",
       "<table border=\"1\" class=\"dataframe\">\n",
       "  <thead>\n",
       "    <tr style=\"text-align: right;\">\n",
       "      <th></th>\n",
       "      <th>runTm</th>\n",
       "      <th>nation</th>\n",
       "      <th>genre</th>\n",
       "      <th>director</th>\n",
       "      <th>actor</th>\n",
       "      <th>is_adult</th>\n",
       "      <th>distributor</th>\n",
       "      <th>view</th>\n",
       "      <th>openMonth</th>\n",
       "    </tr>\n",
       "  </thead>\n",
       "  <tbody>\n",
       "    <tr>\n",
       "      <th>0</th>\n",
       "      <td>136</td>\n",
       "      <td>2</td>\n",
       "      <td>347162.440556</td>\n",
       "      <td>1307109.25</td>\n",
       "      <td>1412308.785714</td>\n",
       "      <td>0</td>\n",
       "      <td>1088485.983784</td>\n",
       "      <td>1865469</td>\n",
       "      <td>740111.463320</td>\n",
       "    </tr>\n",
       "    <tr>\n",
       "      <th>1</th>\n",
       "      <td>119</td>\n",
       "      <td>3</td>\n",
       "      <td>996311.981191</td>\n",
       "      <td>7290.4</td>\n",
       "      <td>17258.0</td>\n",
       "      <td>0</td>\n",
       "      <td>17985.852941</td>\n",
       "      <td>24634</td>\n",
       "      <td>516172.288462</td>\n",
       "    </tr>\n",
       "    <tr>\n",
       "      <th>2</th>\n",
       "      <td>116</td>\n",
       "      <td>1</td>\n",
       "      <td>373635.972081</td>\n",
       "      <td>7678650.2</td>\n",
       "      <td>3846923.466667</td>\n",
       "      <td>1</td>\n",
       "      <td>1650243.296117</td>\n",
       "      <td>943241</td>\n",
       "      <td>338627.196891</td>\n",
       "    </tr>\n",
       "    <tr>\n",
       "      <th>3</th>\n",
       "      <td>125</td>\n",
       "      <td>2</td>\n",
       "      <td>347162.440556</td>\n",
       "      <td>842257.9</td>\n",
       "      <td>402432.5</td>\n",
       "      <td>0</td>\n",
       "      <td>40571.71123</td>\n",
       "      <td>85594</td>\n",
       "      <td>253381.393617</td>\n",
       "    </tr>\n",
       "    <tr>\n",
       "      <th>4</th>\n",
       "      <td>105</td>\n",
       "      <td>1</td>\n",
       "      <td>425269.812587</td>\n",
       "      <td>193554.0</td>\n",
       "      <td>193554.0</td>\n",
       "      <td>0</td>\n",
       "      <td>908892.064897</td>\n",
       "      <td>193554</td>\n",
       "      <td>428123.391892</td>\n",
       "    </tr>\n",
       "  </tbody>\n",
       "</table>\n",
       "</div>"
      ],
      "text/plain": [
       "   runTm  nation          genre    director           actor  is_adult  \\\n",
       "0    136       2  347162.440556  1307109.25  1412308.785714         0   \n",
       "1    119       3  996311.981191      7290.4         17258.0         0   \n",
       "2    116       1  373635.972081   7678650.2  3846923.466667         1   \n",
       "3    125       2  347162.440556    842257.9        402432.5         0   \n",
       "4    105       1  425269.812587    193554.0        193554.0         0   \n",
       "\n",
       "      distributor     view      openMonth  \n",
       "0  1088485.983784  1865469  740111.463320  \n",
       "1    17985.852941    24634  516172.288462  \n",
       "2  1650243.296117   943241  338627.196891  \n",
       "3     40571.71123    85594  253381.393617  \n",
       "4   908892.064897   193554  428123.391892  "
      ]
     },
     "execution_count": 6,
     "metadata": {},
     "output_type": "execute_result"
    }
   ],
   "source": [
    "df.head()"
   ]
  },
  {
   "cell_type": "markdown",
   "metadata": {},
   "source": [
    "## 2. 관객 수 범주형 변환"
   ]
  },
  {
   "cell_type": "code",
   "execution_count": 7,
   "metadata": {},
   "outputs": [],
   "source": [
    "for idx, row in df.iterrows():\n",
    "    val = row['view']\n",
    "    if val <10000:\n",
    "        df.loc[idx, 'view'] = 1\n",
    "    elif val <100000:\n",
    "        df.loc[idx, 'view'] = 2\n",
    "    elif val <500000:\n",
    "        df.loc[idx, 'view'] = 3\n",
    "    elif val <1000000:\n",
    "        df.loc[idx, 'view'] = 4\n",
    "    elif val <3000000:\n",
    "        df.loc[idx, 'view'] = 5\n",
    "    elif val <7000000:\n",
    "        df.loc[idx, 'view'] = 6\n",
    "    elif val <10000000:\n",
    "        df.loc[idx, 'view'] = 7\n",
    "    else:\n",
    "        df.loc[idx, 'view'] = 8"
   ]
  },
  {
   "cell_type": "markdown",
   "metadata": {},
   "source": [
    "## 3. 라벨인코딩"
   ]
  },
  {
   "cell_type": "code",
   "execution_count": 8,
   "metadata": {},
   "outputs": [],
   "source": [
    "y = df['view']\n",
    "X = df.drop('view', axis=1)"
   ]
  },
  {
   "cell_type": "code",
   "execution_count": 9,
   "metadata": {},
   "outputs": [
    {
     "name": "stdout",
     "output_type": "stream",
     "text": [
      "<class 'pandas.core.frame.DataFrame'>\n",
      "RangeIndex: 6806 entries, 0 to 6805\n",
      "Data columns (total 8 columns):\n",
      " #   Column       Non-Null Count  Dtype  \n",
      "---  ------       --------------  -----  \n",
      " 0   runTm        6806 non-null   int64  \n",
      " 1   nation       6806 non-null   int64  \n",
      " 2   genre        6806 non-null   float64\n",
      " 3   director     6806 non-null   object \n",
      " 4   actor        6806 non-null   object \n",
      " 5   is_adult     6806 non-null   int64  \n",
      " 6   distributor  6806 non-null   object \n",
      " 7   openMonth    6806 non-null   float64\n",
      "dtypes: float64(2), int64(3), object(3)\n",
      "memory usage: 425.5+ KB\n"
     ]
    }
   ],
   "source": [
    "X.info()"
   ]
  },
  {
   "cell_type": "code",
   "execution_count": 10,
   "metadata": {},
   "outputs": [],
   "source": [
    "X = pd.get_dummies(data = X, columns=['nation'], prefix='region')"
   ]
  },
  {
   "cell_type": "code",
   "execution_count": 11,
   "metadata": {},
   "outputs": [
    {
     "data": {
      "text/plain": [
       "Index(['runTm', 'genre', 'director', 'actor', 'is_adult', 'distributor',\n",
       "       'openMonth', 'region_1', 'region_2', 'region_3'],\n",
       "      dtype='object')"
      ]
     },
     "execution_count": 11,
     "metadata": {},
     "output_type": "execute_result"
    }
   ],
   "source": [
    "X.columns"
   ]
  },
  {
   "cell_type": "markdown",
   "metadata": {},
   "source": [
    "## 4. 데이터 스플릿"
   ]
  },
  {
   "cell_type": "code",
   "execution_count": 12,
   "metadata": {},
   "outputs": [],
   "source": [
    "from sklearn.model_selection import train_test_split\n",
    "\n",
    "X_train, X_test, y_train, y_test = train_test_split(X, y, test_size=0.3, random_state=13, stratify=y)"
   ]
  },
  {
   "cell_type": "markdown",
   "metadata": {},
   "source": [
    "## 5. Normalise"
   ]
  },
  {
   "cell_type": "code",
   "execution_count": 13,
   "metadata": {},
   "outputs": [
    {
     "data": {
      "text/html": [
       "<div>\n",
       "<style scoped>\n",
       "    .dataframe tbody tr th:only-of-type {\n",
       "        vertical-align: middle;\n",
       "    }\n",
       "\n",
       "    .dataframe tbody tr th {\n",
       "        vertical-align: top;\n",
       "    }\n",
       "\n",
       "    .dataframe thead th {\n",
       "        text-align: right;\n",
       "    }\n",
       "</style>\n",
       "<table border=\"1\" class=\"dataframe\">\n",
       "  <thead>\n",
       "    <tr style=\"text-align: right;\">\n",
       "      <th></th>\n",
       "      <th>runTm</th>\n",
       "      <th>genre</th>\n",
       "      <th>director</th>\n",
       "      <th>actor</th>\n",
       "      <th>is_adult</th>\n",
       "      <th>distributor</th>\n",
       "      <th>openMonth</th>\n",
       "      <th>region_1</th>\n",
       "      <th>region_2</th>\n",
       "      <th>region_3</th>\n",
       "    </tr>\n",
       "  </thead>\n",
       "  <tbody>\n",
       "    <tr>\n",
       "      <th>1281</th>\n",
       "      <td>90</td>\n",
       "      <td>373635.972081</td>\n",
       "      <td>126547.5</td>\n",
       "      <td>1081503.333333</td>\n",
       "      <td>0</td>\n",
       "      <td>792229.989011</td>\n",
       "      <td>335885.026016</td>\n",
       "      <td>0</td>\n",
       "      <td>1</td>\n",
       "      <td>0</td>\n",
       "    </tr>\n",
       "    <tr>\n",
       "      <th>4639</th>\n",
       "      <td>107</td>\n",
       "      <td>347162.440556</td>\n",
       "      <td>176539.0</td>\n",
       "      <td>104424.5</td>\n",
       "      <td>0</td>\n",
       "      <td>618260.955157</td>\n",
       "      <td>253381.393617</td>\n",
       "      <td>0</td>\n",
       "      <td>1</td>\n",
       "      <td>0</td>\n",
       "    </tr>\n",
       "    <tr>\n",
       "      <th>6479</th>\n",
       "      <td>90</td>\n",
       "      <td>996311.981191</td>\n",
       "      <td>5980.0</td>\n",
       "      <td>5980.0</td>\n",
       "      <td>0</td>\n",
       "      <td>14858.6</td>\n",
       "      <td>740111.463320</td>\n",
       "      <td>1</td>\n",
       "      <td>0</td>\n",
       "      <td>0</td>\n",
       "    </tr>\n",
       "    <tr>\n",
       "      <th>6337</th>\n",
       "      <td>101</td>\n",
       "      <td>347162.440556</td>\n",
       "      <td>7333.0</td>\n",
       "      <td>8193.0</td>\n",
       "      <td>0</td>\n",
       "      <td>6329.636364</td>\n",
       "      <td>740111.463320</td>\n",
       "      <td>0</td>\n",
       "      <td>0</td>\n",
       "      <td>1</td>\n",
       "    </tr>\n",
       "    <tr>\n",
       "      <th>87</th>\n",
       "      <td>125</td>\n",
       "      <td>256486.170732</td>\n",
       "      <td>180377.0</td>\n",
       "      <td>616776.5</td>\n",
       "      <td>1</td>\n",
       "      <td>1347279.324649</td>\n",
       "      <td>489536.979452</td>\n",
       "      <td>0</td>\n",
       "      <td>0</td>\n",
       "      <td>1</td>\n",
       "    </tr>\n",
       "    <tr>\n",
       "      <th>...</th>\n",
       "      <td>...</td>\n",
       "      <td>...</td>\n",
       "      <td>...</td>\n",
       "      <td>...</td>\n",
       "      <td>...</td>\n",
       "      <td>...</td>\n",
       "      <td>...</td>\n",
       "      <td>...</td>\n",
       "      <td>...</td>\n",
       "      <td>...</td>\n",
       "    </tr>\n",
       "    <tr>\n",
       "      <th>4560</th>\n",
       "      <td>87</td>\n",
       "      <td>347162.440556</td>\n",
       "      <td>5212.0</td>\n",
       "      <td>4159.0</td>\n",
       "      <td>0</td>\n",
       "      <td>8626.05</td>\n",
       "      <td>428123.391892</td>\n",
       "      <td>0</td>\n",
       "      <td>0</td>\n",
       "      <td>1</td>\n",
       "    </tr>\n",
       "    <tr>\n",
       "      <th>2503</th>\n",
       "      <td>110</td>\n",
       "      <td>267601.451193</td>\n",
       "      <td>459518.428571</td>\n",
       "      <td>277540.4</td>\n",
       "      <td>0</td>\n",
       "      <td>1347279.324649</td>\n",
       "      <td>740111.463320</td>\n",
       "      <td>0</td>\n",
       "      <td>0</td>\n",
       "      <td>1</td>\n",
       "    </tr>\n",
       "    <tr>\n",
       "      <th>2723</th>\n",
       "      <td>93</td>\n",
       "      <td>996311.981191</td>\n",
       "      <td>84743.6</td>\n",
       "      <td>62954.0</td>\n",
       "      <td>0</td>\n",
       "      <td>106105.608247</td>\n",
       "      <td>625724.097222</td>\n",
       "      <td>0</td>\n",
       "      <td>0</td>\n",
       "      <td>1</td>\n",
       "    </tr>\n",
       "    <tr>\n",
       "      <th>5822</th>\n",
       "      <td>96</td>\n",
       "      <td>347162.440556</td>\n",
       "      <td>39867.333333</td>\n",
       "      <td>5920.0</td>\n",
       "      <td>0</td>\n",
       "      <td>79213.526316</td>\n",
       "      <td>405130.969231</td>\n",
       "      <td>0</td>\n",
       "      <td>0</td>\n",
       "      <td>1</td>\n",
       "    </tr>\n",
       "    <tr>\n",
       "      <th>4921</th>\n",
       "      <td>99</td>\n",
       "      <td>373635.972081</td>\n",
       "      <td>3455272.0</td>\n",
       "      <td>655472.75</td>\n",
       "      <td>0</td>\n",
       "      <td>1144000.767956</td>\n",
       "      <td>489536.979452</td>\n",
       "      <td>1</td>\n",
       "      <td>0</td>\n",
       "      <td>0</td>\n",
       "    </tr>\n",
       "  </tbody>\n",
       "</table>\n",
       "<p>4764 rows × 10 columns</p>\n",
       "</div>"
      ],
      "text/plain": [
       "      runTm          genre       director           actor  is_adult  \\\n",
       "1281     90  373635.972081       126547.5  1081503.333333         0   \n",
       "4639    107  347162.440556       176539.0        104424.5         0   \n",
       "6479     90  996311.981191         5980.0          5980.0         0   \n",
       "6337    101  347162.440556         7333.0          8193.0         0   \n",
       "87      125  256486.170732       180377.0        616776.5         1   \n",
       "...     ...            ...            ...             ...       ...   \n",
       "4560     87  347162.440556         5212.0          4159.0         0   \n",
       "2503    110  267601.451193  459518.428571        277540.4         0   \n",
       "2723     93  996311.981191        84743.6         62954.0         0   \n",
       "5822     96  347162.440556   39867.333333          5920.0         0   \n",
       "4921     99  373635.972081      3455272.0       655472.75         0   \n",
       "\n",
       "         distributor      openMonth  region_1  region_2  region_3  \n",
       "1281   792229.989011  335885.026016         0         1         0  \n",
       "4639   618260.955157  253381.393617         0         1         0  \n",
       "6479         14858.6  740111.463320         1         0         0  \n",
       "6337     6329.636364  740111.463320         0         0         1  \n",
       "87    1347279.324649  489536.979452         0         0         1  \n",
       "...              ...            ...       ...       ...       ...  \n",
       "4560         8626.05  428123.391892         0         0         1  \n",
       "2503  1347279.324649  740111.463320         0         0         1  \n",
       "2723   106105.608247  625724.097222         0         0         1  \n",
       "5822    79213.526316  405130.969231         0         0         1  \n",
       "4921  1144000.767956  489536.979452         1         0         0  \n",
       "\n",
       "[4764 rows x 10 columns]"
      ]
     },
     "execution_count": 13,
     "metadata": {},
     "output_type": "execute_result"
    }
   ],
   "source": [
    "X_train"
   ]
  },
  {
   "cell_type": "code",
   "execution_count": 14,
   "metadata": {},
   "outputs": [],
   "source": [
    "# train data의 runTm 컬럼만 normalisation fit 적용\n",
    "from sklearn.preprocessing import MinMaxScaler\n",
    "\n",
    "mm = MinMaxScaler()\n",
    "X_train.iloc[:,0:7] = mm.fit_transform(X_train.iloc[:, 0:7])"
   ]
  },
  {
   "cell_type": "code",
   "execution_count": 15,
   "metadata": {},
   "outputs": [
    {
     "data": {
      "text/html": [
       "<div>\n",
       "<style scoped>\n",
       "    .dataframe tbody tr th:only-of-type {\n",
       "        vertical-align: middle;\n",
       "    }\n",
       "\n",
       "    .dataframe tbody tr th {\n",
       "        vertical-align: top;\n",
       "    }\n",
       "\n",
       "    .dataframe thead th {\n",
       "        text-align: right;\n",
       "    }\n",
       "</style>\n",
       "<table border=\"1\" class=\"dataframe\">\n",
       "  <thead>\n",
       "    <tr style=\"text-align: right;\">\n",
       "      <th></th>\n",
       "      <th>runTm</th>\n",
       "      <th>genre</th>\n",
       "      <th>director</th>\n",
       "      <th>actor</th>\n",
       "      <th>is_adult</th>\n",
       "      <th>distributor</th>\n",
       "      <th>openMonth</th>\n",
       "      <th>region_1</th>\n",
       "      <th>region_2</th>\n",
       "      <th>region_3</th>\n",
       "    </tr>\n",
       "  </thead>\n",
       "  <tbody>\n",
       "    <tr>\n",
       "      <th>1281</th>\n",
       "      <td>0.213636</td>\n",
       "      <td>0.339595</td>\n",
       "      <td>0.011115</td>\n",
       "      <td>0.104882</td>\n",
       "      <td>0.0</td>\n",
       "      <td>0.229713</td>\n",
       "      <td>0.169506</td>\n",
       "      <td>0</td>\n",
       "      <td>1</td>\n",
       "      <td>0</td>\n",
       "    </tr>\n",
       "    <tr>\n",
       "      <th>4639</th>\n",
       "      <td>0.290909</td>\n",
       "      <td>0.311517</td>\n",
       "      <td>0.015541</td>\n",
       "      <td>0.010039</td>\n",
       "      <td>0.0</td>\n",
       "      <td>0.179206</td>\n",
       "      <td>0.000000</td>\n",
       "      <td>0</td>\n",
       "      <td>1</td>\n",
       "      <td>0</td>\n",
       "    </tr>\n",
       "    <tr>\n",
       "      <th>6479</th>\n",
       "      <td>0.213636</td>\n",
       "      <td>1.000000</td>\n",
       "      <td>0.000441</td>\n",
       "      <td>0.000483</td>\n",
       "      <td>0.0</td>\n",
       "      <td>0.004023</td>\n",
       "      <td>1.000000</td>\n",
       "      <td>1</td>\n",
       "      <td>0</td>\n",
       "      <td>0</td>\n",
       "    </tr>\n",
       "    <tr>\n",
       "      <th>6337</th>\n",
       "      <td>0.263636</td>\n",
       "      <td>0.311517</td>\n",
       "      <td>0.000561</td>\n",
       "      <td>0.000698</td>\n",
       "      <td>0.0</td>\n",
       "      <td>0.001547</td>\n",
       "      <td>1.000000</td>\n",
       "      <td>0</td>\n",
       "      <td>0</td>\n",
       "      <td>1</td>\n",
       "    </tr>\n",
       "    <tr>\n",
       "      <th>87</th>\n",
       "      <td>0.372727</td>\n",
       "      <td>0.215346</td>\n",
       "      <td>0.015881</td>\n",
       "      <td>0.059772</td>\n",
       "      <td>1.0</td>\n",
       "      <td>0.390857</td>\n",
       "      <td>0.485188</td>\n",
       "      <td>0</td>\n",
       "      <td>0</td>\n",
       "      <td>1</td>\n",
       "    </tr>\n",
       "    <tr>\n",
       "      <th>...</th>\n",
       "      <td>...</td>\n",
       "      <td>...</td>\n",
       "      <td>...</td>\n",
       "      <td>...</td>\n",
       "      <td>...</td>\n",
       "      <td>...</td>\n",
       "      <td>...</td>\n",
       "      <td>...</td>\n",
       "      <td>...</td>\n",
       "      <td>...</td>\n",
       "    </tr>\n",
       "    <tr>\n",
       "      <th>4560</th>\n",
       "      <td>0.200000</td>\n",
       "      <td>0.311517</td>\n",
       "      <td>0.000373</td>\n",
       "      <td>0.000307</td>\n",
       "      <td>0.0</td>\n",
       "      <td>0.002214</td>\n",
       "      <td>0.359012</td>\n",
       "      <td>0</td>\n",
       "      <td>0</td>\n",
       "      <td>1</td>\n",
       "    </tr>\n",
       "    <tr>\n",
       "      <th>2503</th>\n",
       "      <td>0.304545</td>\n",
       "      <td>0.227135</td>\n",
       "      <td>0.040594</td>\n",
       "      <td>0.026843</td>\n",
       "      <td>0.0</td>\n",
       "      <td>0.390857</td>\n",
       "      <td>1.000000</td>\n",
       "      <td>0</td>\n",
       "      <td>0</td>\n",
       "      <td>1</td>\n",
       "    </tr>\n",
       "    <tr>\n",
       "      <th>2723</th>\n",
       "      <td>0.227273</td>\n",
       "      <td>1.000000</td>\n",
       "      <td>0.007414</td>\n",
       "      <td>0.006014</td>\n",
       "      <td>0.0</td>\n",
       "      <td>0.030515</td>\n",
       "      <td>0.764988</td>\n",
       "      <td>0</td>\n",
       "      <td>0</td>\n",
       "      <td>1</td>\n",
       "    </tr>\n",
       "    <tr>\n",
       "      <th>5822</th>\n",
       "      <td>0.240909</td>\n",
       "      <td>0.311517</td>\n",
       "      <td>0.003441</td>\n",
       "      <td>0.000478</td>\n",
       "      <td>0.0</td>\n",
       "      <td>0.022707</td>\n",
       "      <td>0.311774</td>\n",
       "      <td>0</td>\n",
       "      <td>0</td>\n",
       "      <td>1</td>\n",
       "    </tr>\n",
       "    <tr>\n",
       "      <th>4921</th>\n",
       "      <td>0.254545</td>\n",
       "      <td>0.339595</td>\n",
       "      <td>0.305815</td>\n",
       "      <td>0.063528</td>\n",
       "      <td>0.0</td>\n",
       "      <td>0.331841</td>\n",
       "      <td>0.485188</td>\n",
       "      <td>1</td>\n",
       "      <td>0</td>\n",
       "      <td>0</td>\n",
       "    </tr>\n",
       "  </tbody>\n",
       "</table>\n",
       "<p>4764 rows × 10 columns</p>\n",
       "</div>"
      ],
      "text/plain": [
       "         runTm     genre  director     actor  is_adult  distributor  \\\n",
       "1281  0.213636  0.339595  0.011115  0.104882       0.0     0.229713   \n",
       "4639  0.290909  0.311517  0.015541  0.010039       0.0     0.179206   \n",
       "6479  0.213636  1.000000  0.000441  0.000483       0.0     0.004023   \n",
       "6337  0.263636  0.311517  0.000561  0.000698       0.0     0.001547   \n",
       "87    0.372727  0.215346  0.015881  0.059772       1.0     0.390857   \n",
       "...        ...       ...       ...       ...       ...          ...   \n",
       "4560  0.200000  0.311517  0.000373  0.000307       0.0     0.002214   \n",
       "2503  0.304545  0.227135  0.040594  0.026843       0.0     0.390857   \n",
       "2723  0.227273  1.000000  0.007414  0.006014       0.0     0.030515   \n",
       "5822  0.240909  0.311517  0.003441  0.000478       0.0     0.022707   \n",
       "4921  0.254545  0.339595  0.305815  0.063528       0.0     0.331841   \n",
       "\n",
       "      openMonth  region_1  region_2  region_3  \n",
       "1281   0.169506         0         1         0  \n",
       "4639   0.000000         0         1         0  \n",
       "6479   1.000000         1         0         0  \n",
       "6337   1.000000         0         0         1  \n",
       "87     0.485188         0         0         1  \n",
       "...         ...       ...       ...       ...  \n",
       "4560   0.359012         0         0         1  \n",
       "2503   1.000000         0         0         1  \n",
       "2723   0.764988         0         0         1  \n",
       "5822   0.311774         0         0         1  \n",
       "4921   0.485188         1         0         0  \n",
       "\n",
       "[4764 rows x 10 columns]"
      ]
     },
     "execution_count": 15,
     "metadata": {},
     "output_type": "execute_result"
    }
   ],
   "source": [
    "X_train"
   ]
  },
  {
   "cell_type": "code",
   "execution_count": 16,
   "metadata": {},
   "outputs": [],
   "source": [
    "# test 데이터의 runTm 컬럼도 같은 minMax scaler transform\n",
    "X_test.iloc[:,0:7] = mm.transform(X_test.iloc[:, 0:7])"
   ]
  },
  {
   "cell_type": "markdown",
   "metadata": {},
   "source": [
    "## 6. Modelling"
   ]
  },
  {
   "cell_type": "code",
   "execution_count": 17,
   "metadata": {},
   "outputs": [
    {
     "name": "stdout",
     "output_type": "stream",
     "text": [
      "train accuracy :  0.46557514693534846\n",
      "test accuracy :  0.4593535749265426\n"
     ]
    }
   ],
   "source": [
    "from sklearn.linear_model import LogisticRegression\n",
    "from sklearn.metrics import accuracy_score\n",
    "\n",
    "lr_clf = LogisticRegression(random_state=13, solver='liblinear')\n",
    "lr_clf.fit(X_train, y_train)\n",
    "lr_pred = lr_clf.predict(X_test)\n",
    "lr_train = lr_clf.predict(X_train)\n",
    "\n",
    "print(\"train accuracy : \", accuracy_score(y_train, lr_train))\n",
    "print(\"test accuracy : \", accuracy_score(y_test, lr_pred))"
   ]
  },
  {
   "cell_type": "code",
   "execution_count": 18,
   "metadata": {},
   "outputs": [
    {
     "name": "stdout",
     "output_type": "stream",
     "text": [
      "train accuracy :  0.8087741393786734\n",
      "test accuracy :  0.7394711067580804\n"
     ]
    }
   ],
   "source": [
    "from sklearn.tree import DecisionTreeClassifier\n",
    "\n",
    "dt_clf = DecisionTreeClassifier(random_state=13, max_depth=8)\n",
    "dt_clf.fit(X_train, y_train)\n",
    "dt_pred = dt_clf.predict(X_test)\n",
    "dt_train = dt_clf.predict(X_train)\n",
    "\n",
    "print(\"train accuracy : \", accuracy_score(y_train, dt_train))\n",
    "print(\"test accuracy : \", accuracy_score(y_test, dt_pred))"
   ]
  },
  {
   "cell_type": "code",
   "execution_count": 19,
   "metadata": {},
   "outputs": [
    {
     "name": "stdout",
     "output_type": "stream",
     "text": [
      "Feature: runTm, Score: 0.01476\n",
      "Feature: genre, Score: 0.00557\n",
      "Feature: director, Score: 0.69469\n",
      "Feature: actor, Score: 0.24139\n",
      "Feature: is_adult, Score: 0.00189\n",
      "Feature: distributor, Score: 0.03106\n",
      "Feature: openMonth, Score: 0.00816\n",
      "Feature: region_1, Score: 0.00095\n",
      "Feature: region_2, Score: 0.00044\n",
      "Feature: region_3, Score: 0.00109\n"
     ]
    },
    {
     "data": {
      "image/png": "[encoded data removed]",
      "text/plain": [
       "<Figure size 432x288 with 1 Axes>"
      ]
     },
     "metadata": {
      "needs_background": "light"
     },
     "output_type": "display_data"
    }
   ],
   "source": [
    "importance = dt_clf.feature_importances_\n",
    "\n",
    "for i, v in enumerate(importance):\n",
    "    print('Feature: %s, Score: %.5f' %(X_train.columns[i],v))\n",
    "\n",
    "plt.bar(X_train.columns, importance)\n",
    "plt.xticks(rotation=60)\n",
    "plt.show()"
   ]
  },
  {
   "cell_type": "code",
   "execution_count": 20,
   "metadata": {},
   "outputs": [
    {
     "name": "stdout",
     "output_type": "stream",
     "text": [
      "train accuracy :  0.9997900923593619\n",
      "test accuracy :  0.7487757100881489\n"
     ]
    }
   ],
   "source": [
    "from sklearn.ensemble import RandomForestClassifier\n",
    "\n",
    "rf_clf = RandomForestClassifier(random_state=13, n_jobs=-1, n_estimators=100)\n",
    "rf_clf.fit(X_train, y_train)\n",
    "rf_pred = rf_clf.predict(X_test)\n",
    "rf_train = rf_clf.predict(X_train)\n",
    "\n",
    "print(\"train accuracy : \", accuracy_score(y_train, rf_train))\n",
    "print(\"test accuracy : \", accuracy_score(y_test, rf_pred))"
   ]
  },
  {
   "cell_type": "code",
   "execution_count": 21,
   "metadata": {},
   "outputs": [
    {
     "name": "stdout",
     "output_type": "stream",
     "text": [
      "Feature: runTm, Score: 0.08754\n",
      "Feature: genre, Score: 0.04195\n",
      "Feature: director, Score: 0.36158\n",
      "Feature: actor, Score: 0.27820\n",
      "Feature: is_adult, Score: 0.01194\n",
      "Feature: distributor, Score: 0.13417\n",
      "Feature: openMonth, Score: 0.05651\n",
      "Feature: region_1, Score: 0.00815\n",
      "Feature: region_2, Score: 0.00849\n",
      "Feature: region_3, Score: 0.01146\n"
     ]
    },
    {
     "data": {
      "image/png": "[encoded data removed]",
      "text/plain": [
       "<Figure size 432x288 with 1 Axes>"
      ]
     },
     "metadata": {
      "needs_background": "light"
     },
     "output_type": "display_data"
    }
   ],
   "source": [
    "importance = rf_clf.feature_importances_\n",
    "\n",
    "for i, v in enumerate(importance):\n",
    "    print('Feature: %s, Score: %.5f' %(X_train.columns[i],v))\n",
    "\n",
    "plt.bar(X_train.columns, importance)\n",
    "plt.xticks(rotation=60)\n",
    "plt.show()"
   ]
  },
  {
   "cell_type": "code",
   "execution_count": 22,
   "metadata": {},
   "outputs": [
    {
     "name": "stdout",
     "output_type": "stream",
     "text": [
      "train accuracy :  0.9997900923593619\n",
      "test accuracy :  0.7335945151811949\n"
     ]
    }
   ],
   "source": [
    "from lightgbm import LGBMClassifier\n",
    "\n",
    "lgbm_clf = LGBMClassifier(random_state=13, n_jobs=-1, n_estimators=1000, num_leaves=64, boost_from_average = False)\n",
    "lgbm_clf.fit(X_train, y_train)\n",
    "lgbm_pred = lgbm_clf.predict(X_test)\n",
    "lgbm_train = rf_clf.predict(X_train)\n",
    "\n",
    "print(\"train accuracy : \", accuracy_score(y_train, lgbm_train))\n",
    "print(\"test accuracy : \", accuracy_score(y_test, lgbm_pred))"
   ]
  },
  {
   "cell_type": "code",
   "execution_count": 23,
   "metadata": {},
   "outputs": [
    {
     "name": "stdout",
     "output_type": "stream",
     "text": [
      "Feature: runTm, Score: 35163.00000\n",
      "Feature: genre, Score: 12025.00000\n",
      "Feature: director, Score: 39399.00000\n",
      "Feature: actor, Score: 41929.00000\n",
      "Feature: is_adult, Score: 2197.00000\n",
      "Feature: distributor, Score: 25734.00000\n",
      "Feature: openMonth, Score: 18282.00000\n",
      "Feature: region_1, Score: 2007.00000\n",
      "Feature: region_2, Score: 2316.00000\n",
      "Feature: region_3, Score: 1650.00000\n"
     ]
    },
    {
     "data": {
      "image/png": "[encoded data removed]",
      "text/plain": [
       "<Figure size 432x288 with 1 Axes>"
      ]
     },
     "metadata": {
      "needs_background": "light"
     },
     "output_type": "display_data"
    }
   ],
   "source": [
    "importance = lgbm_clf.feature_importances_\n",
    "\n",
    "for i, v in enumerate(importance):\n",
    "    print('Feature: %s, Score: %.5f' %(X_train.columns[i],v))\n",
    "\n",
    "plt.bar(X_train.columns, importance)\n",
    "plt.xticks(rotation=60)\n",
    "plt.show()"
   ]
  },
  {
   "cell_type": "markdown",
   "metadata": {},
   "source": [
    "## 7. Boosting"
   ]
  },
  {
   "cell_type": "code",
   "execution_count": 24,
   "metadata": {},
   "outputs": [],
   "source": [
    "from sklearn.ensemble import GradientBoostingClassifier\n",
    "import time\n",
    "import warnings\n",
    "\n",
    "warnings.filterwarnings('ignore')"
   ]
  },
  {
   "cell_type": "code",
   "execution_count": 36,
   "metadata": {},
   "outputs": [
    {
     "name": "stdout",
     "output_type": "stream",
     "text": [
      "ACC :  0.7546523016650343\n",
      "Fit time :  17.935750722885132\n"
     ]
    }
   ],
   "source": [
    "start_time = time.time()\n",
    "\n",
    "gb_clf = GradientBoostingClassifier(random_state=13, n_estimators=200, learning_rate=0.01, max_depth=4)\n",
    "gb_clf.fit(X_train, y_train)\n",
    "gb_pred = gb_clf.predict(X_test)\n",
    "gb_train_pd = gb_clf.predict(X_train)\n",
    "\n",
    "print(\"ACC : \", accuracy_score(y_test, gb_pred))\n",
    "print(\"Fit time : \", time.time() - start_time)"
   ]
  },
  {
   "cell_type": "code",
   "execution_count": 37,
   "metadata": {},
   "outputs": [
    {
     "name": "stdout",
     "output_type": "stream",
     "text": [
      "Train Accuracy :  0.8184298908480269\n",
      "Test Accuracy :  0.7546523016650343\n"
     ]
    }
   ],
   "source": [
    "print(\"Train Accuracy : \", accuracy_score(y_train, gb_train_pd))\n",
    "print(\"Test Accuracy : \", accuracy_score(y_test, gb_pred))"
   ]
  },
  {
   "cell_type": "code",
   "execution_count": 27,
   "metadata": {},
   "outputs": [
    {
     "name": "stdout",
     "output_type": "stream",
     "text": [
      "Fitting 2 folds for each of 4 candidates, totalling 8 fits\n",
      "ACC :  0.7561214495592556\n",
      "Fit time :  54.56214904785156\n"
     ]
    }
   ],
   "source": [
    "from sklearn.model_selection import GridSearchCV\n",
    "\n",
    "params = {\n",
    "    'n_estimators' : [100, 300],\n",
    "    'learning_rate' : [0.01, 0.1]\n",
    "}\n",
    "\n",
    "start_time = time.time()\n",
    "grid = GridSearchCV(gb_clf, param_grid=params, cv=2, verbose=1, n_jobs=-1)\n",
    "grid.fit(X_train, y_train)\n",
    "grid_pred = grid.predict(X_test)\n",
    "grid_train_pd = grid.predict(X_train)\n",
    "\n",
    "print(\"ACC : \", accuracy_score(y_test, grid_pred))\n",
    "print(\"Fit time : \", time.time() - start_time)"
   ]
  },
  {
   "cell_type": "code",
   "execution_count": 28,
   "metadata": {},
   "outputs": [
    {
     "name": "stdout",
     "output_type": "stream",
     "text": [
      "Train Accuracy :  0.8331234256926953\n",
      "Test Accuracy :  0.7561214495592556\n"
     ]
    }
   ],
   "source": [
    "print(\"Train Accuracy : \", accuracy_score(y_train, grid_train_pd))\n",
    "print(\"Test Accuracy : \", accuracy_score(y_test, grid_pred))"
   ]
  },
  {
   "cell_type": "code",
   "execution_count": 29,
   "metadata": {},
   "outputs": [],
   "source": [
    "y_train_copy = y_train.copy()\n",
    "y_test_copy = y_test.copy()\n",
    "\n",
    "y_train_copy -= 1\n",
    "y_test_copy -= 1"
   ]
  },
  {
   "cell_type": "code",
   "execution_count": 34,
   "metadata": {},
   "outputs": [
    {
     "name": "stdout",
     "output_type": "stream",
     "text": [
      "Accuracy :  0.7526934378060725\n",
      "Fit time :  2.89638090133667\n"
     ]
    }
   ],
   "source": [
    "from xgboost import XGBClassifier\n",
    "\n",
    "start_time = time.time()\n",
    "xgb = XGBClassifier(n_estimators=100, learning_rate=0.01, max_depth=4)\n",
    "xgb.fit(X_train.values, y_train_copy.values)\n",
    "\n",
    "print(\"Accuracy : \", accuracy_score(y_test_copy.values, xgb.predict(X_test.values)))\n",
    "print('Fit time : ', time.time() - start_time)"
   ]
  },
  {
   "cell_type": "code",
   "execution_count": 35,
   "metadata": {},
   "outputs": [
    {
     "name": "stdout",
     "output_type": "stream",
     "text": [
      "Train Accuracy :  0.7837951301427372\n",
      "Test Accuracy :  0.7526934378060725\n"
     ]
    }
   ],
   "source": [
    "print(\"Train Accuracy : \", accuracy_score(y_train_copy.values, xgb.predict(X_train.values)))\n",
    "print(\"Test Accuracy : \", accuracy_score(y_test_copy.values, xgb.predict(X_test.values)))"
   ]
  },
  {
   "cell_type": "code",
   "execution_count": 32,
   "metadata": {},
   "outputs": [
    {
     "name": "stdout",
     "output_type": "stream",
     "text": [
      "Accuracy :  0.7159647404505387\n",
      "Fit time :  2.4440948963165283\n"
     ]
    }
   ],
   "source": [
    "from sklearn.ensemble import AdaBoostClassifier\n",
    "\n",
    "start_time = time.time()\n",
    "abc = AdaBoostClassifier(n_estimators=100, base_estimator= dt_clf ,learning_rate=0.1)\n",
    "abc.fit(X_train.values, y_train.values)\n",
    "abc_pred = abc.predict(X_test)\n",
    "abc_train_pd = abc.predict(X_train)\n",
    "\n",
    "print(\"Accuracy : \", accuracy_score(y_test.values, abc_pred))\n",
    "print('Fit time : ', time.time() - start_time)"
   ]
  },
  {
   "cell_type": "code",
   "execution_count": 33,
   "metadata": {},
   "outputs": [
    {
     "name": "stdout",
     "output_type": "stream",
     "text": [
      "Train Accuracy :  0.9540302267002518\n",
      "Test Accuracy :  0.7159647404505387\n"
     ]
    }
   ],
   "source": [
    "print(\"Train Accuracy : \", accuracy_score(y_train, abc_train_pd))\n",
    "print(\"Test Accuracy : \", accuracy_score(y_test, abc_pred))"
   ]
  },
  {
   "cell_type": "markdown",
   "metadata": {},
   "source": [
    "---"
   ]
  },
  {
   "cell_type": "markdown",
   "metadata": {},
   "source": [
    "## 8. Conclusion"
   ]
  },
  {
   "cell_type": "markdown",
   "metadata": {},
   "source": [
    "- 세번째 시도에서 중앙값 치환으로 진행했다면, 이번 시도는 평균값으로 진행하였는데, 전체적으로 중앙 값 치환이 더 적합한 형상을 보인다."
   ]
  },
  {
   "cell_type": "markdown",
   "metadata": {},
   "source": [
    "---"
   ]
  },
  {
   "cell_type": "markdown",
   "metadata": {},
   "source": [
    "### 9. 라벨별 예측율"
   ]
  },
  {
   "cell_type": "code",
   "execution_count": null,
   "metadata": {},
   "outputs": [],
   "source": [
    "movie_raw = pd.read_csv('./data/join_v2.csv', encoding='utf-8-sig', thousands=',')\n",
    "\n",
    "xgb_train = xgb.predict(X_train.values)\n",
    "xgb_test = xgb.predict(X_test.values)\n",
    "\n",
    "X_train_copy = X_train.copy()\n",
    "X_test_copy = X_test.copy()\n",
    "\n",
    "X_train_copy['view_cat'] = y_train\n",
    "X_test_copy['view_cat'] = y_test\n",
    "\n",
    "xgb_train_1 = xgb_train + 1\n",
    "xgb_test_1 = xgb_test + 1\n",
    "\n",
    "X_train_copy['xgb_pred'] = xgb_train_1\n",
    "X_test_copy['xgb_pred'] = xgb_test_1\n",
    "\n",
    "pred_df = pd.concat([X_train_copy, X_test_copy])\n",
    "new = pd.merge(movie_raw, pred_df, left_index=True, right_index=True)"
   ]
  },
  {
   "cell_type": "code",
   "execution_count": null,
   "metadata": {},
   "outputs": [],
   "source": [
    "new.columns"
   ]
  },
  {
   "cell_type": "code",
   "execution_count": null,
   "metadata": {},
   "outputs": [],
   "source": [
    "new = new.drop(['region_1', 'region_2', 'region_3', 'is_adult_y'], axis=1)"
   ]
  },
  {
   "cell_type": "code",
   "execution_count": null,
   "metadata": {},
   "outputs": [],
   "source": [
    "new['correct'] = 0.\n",
    "\n",
    "for idx, row in new.iterrows():\n",
    "    if row['view_cat'] == row['xgb_pred']:\n",
    "        new.loc[idx, 'correct'] = 1."
   ]
  },
  {
   "cell_type": "code",
   "execution_count": null,
   "metadata": {},
   "outputs": [],
   "source": [
    "view_cat = new.groupby(['view_cat']).agg({\"correct\":\"sum\", \"movieCd\":\"count\"}).reset_index()\n",
    "view_cat['acc_rate'] = view_cat['correct']/view_cat['movieCd']\n",
    "view_cat"
   ]
  },
  {
   "cell_type": "code",
   "execution_count": null,
   "metadata": {},
   "outputs": [],
   "source": []
  }
 ],
 "metadata": {
  "interpreter": {
   "hash": "b7aa211e7bca77fc4bb14274315b0408e0e6a64091334681f2e02eb64b640725"
  },
  "kernelspec": {
   "display_name": "Python 3.8.13 ('ds_study')",
   "language": "python",
   "name": "python3"
  },
  "language_info": {
   "codemirror_mode": {
    "name": "ipython",
    "version": 3
   },
   "file_extension": ".py",
   "mimetype": "text/x-python",
   "name": "python",
   "nbconvert_exporter": "python",
   "pygments_lexer": "ipython3",
   "version": "3.8.13"
  },
  "orig_nbformat": 4
 },
 "nbformat": 4,
 "nbformat_minor": 2
}
